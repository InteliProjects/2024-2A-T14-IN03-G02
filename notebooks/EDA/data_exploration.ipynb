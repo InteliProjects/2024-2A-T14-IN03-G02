{
 "cells": [
  {
   "cell_type": "markdown",
   "metadata": {},
   "source": [
    "## Exploração de Dados\n",
    "\n",
    "Análise Exploratória de Dados (EDA) é um processo usado para entender um conjunto de dados. Essa análise inicial ajuda a descobrir padrões, identificar dados fora do comum, testar ideias e entender as principais características dos dados, utilizando métodos estatísticos e gráficos.\n",
    "\n",
    "Para entender essa análise basta imaginar um quebra-cabeça de 2000 peças espalhados pelo chão da sala. Esse quebra-cabeça possui peças muito pequenas que estão desordenadas, logo para montá-lo de forma mais rápida é preciso organizar as peças por meio de um padrão, sendo ele por cor ou formato. Para isso, é preciso estudar a imagem a ser montada, avaliando suas características, e após o entendimento das peças basta separá-las.\n",
    "\n",
    "Da mesma forma, a Análise Exploratória de Dados organiza e estuda os dados disponíveis para melhor compreendê-los. Os dataframes, que são tabelas usadas na análise, são como o quebra-cabeça desmontado. O EDA ajuda a \\\"montar\\\" esses dados, identificando quais são as colunas que contêm números e quais contêm categorias (como \\\"cor\\\" ou \\\"tamanho\\\"), analisando estatísticas básicas e criando gráficos que mostram como as variáveis se relacionam.\n",
    "\n",
    "Sendo assim, para a exploração dos dados foram criadas dez funções, que são responsáveis pela identificação das colunas numéricas e categóricas, pela estatística descritiva das colunas e pela criação de gráficos para a visualização da relação entre as variáveis. Dessa forma, esse notebook está organizado entre as funções (código) e suas respectivas explicações (texto). As explicações contém o nome da função, sua descrição, os parâmetros, o retorno da função e o detalhamento do código, para consultar a utilização dessas funções e seus resultados no projeto consultar [notebook principal](./main.ipynb) ou a [documentação](../documents/documentacao.md) do projeto.\n"
   ]
  },
  {
   "cell_type": "markdown",
   "metadata": {},
   "source": [
    "#### 1. Importação das Bibliotecas\n"
   ]
  },
  {
   "cell_type": "markdown",
   "metadata": {},
   "source": [
    "A primeira parte da execução do código consiste na importação de bibliotecas que oferecem vários recursos prontos, como aprendizado de máquina, visualização de dados, manipulação de arquivos, entre outros.\n",
    "\n",
    "Dessa forma, foram utilizados quatro bibliotecas para fazer a exploração dos dados, sendo essas: o Pandas, Matplotlib, Numpy e o Seaborn.\n",
    "\n",
    "- **[Pandas:](https://pandas.pydata.org/docs/index.html)** é uma biblioteca criada para trabalhar com dados relacionais, podendo ser utilizado para limpeza e tratamento de dados, análise exploratória(EDA), visualização de dados, entre outras.\n",
    "- **[Matplotlib:](https://matplotlib.org/)** é uma biblioteca de visualização de dados, que permite criar gráficos e figuras interativas.\n",
    "- **[Numpy:](https://numpy.org/doc/stable/)** é uma biblioteca para computação científica em Python, que fornece um array multidimensional, com vários objetos derivados e uma variedade de operações matemáticas, lógicas, de manipulação, de classicação e de seleção.\n",
    "- **[Seaborn:](https://seaborn.pydata.org/)** é uma biblioteca de visualização de dados em Python utilizada para desenhar gráficos estatísticos atrativos e informativos.\n"
   ]
  },
  {
   "cell_type": "code",
   "execution_count": null,
   "metadata": {},
   "outputs": [],
   "source": [
    "import pandas as pd\n",
    "import matplotlib.pyplot as plt\n",
    "import numpy as np\n",
    "import seaborn as sns"
   ]
  },
  {
   "cell_type": "markdown",
   "metadata": {},
   "source": [
    "#### 2. Criação de Funções para a Exploração dos Dados\n"
   ]
  },
  {
   "cell_type": "markdown",
   "metadata": {},
   "source": [
    "**1. Função:** columns_types\n",
    "\n",
    "**Descrição:** Esta função identifica os tipos de dados de cada coluna em um DataFrame. É útil para entender quais colunas contêm dados numéricos, categóricos ou de outros tipos.\n",
    "\n",
    "**Parâmetros:**\n",
    "\n",
    "- dataset: O DataFrame para o qual os tipos de dados de cada coluna serão identificados.\n",
    "\n",
    "**Retorno:** Uma série do Pandas contendo os tipos de dados de cada coluna.\n",
    "\n",
    "**Detalhamento do Código:**\n",
    "\n",
    "- `dataset.dtypes`: Retorna uma série contendo o tipo de dado de cada coluna no DataFrame. Isso pode incluir tipos como int64, float64, object, entre outros.\n"
   ]
  },
  {
   "cell_type": "code",
   "execution_count": null,
   "metadata": {},
   "outputs": [],
   "source": [
    "#Função para Identificar as Colunas Numéricas e Categóricas\n",
    "\n",
    "def columns_types(dataset):\n",
    "    return dataset.dtypes"
   ]
  },
  {
   "cell_type": "markdown",
   "metadata": {},
   "source": [
    "**2. Função:** export_columns_types\n",
    "\n",
    "**Descrição:** Esta função exporta as informações sobre as colunas de um DataFrame (nome e tipo de dado) para um arquivo Excel. É útil para documentar a estrutura do conjunto de dados.\n",
    "\n",
    "**Parâmetros:**\n",
    "\n",
    "- dataset: O DataFrame para o qual as informações das colunas serão exportadas.\n",
    "\n",
    "**Retorno:** O arquivo Excel criado com as informações das colunas.\n",
    "\n",
    "**Detalhamento do Código:**\n",
    "\n",
    "- `dataset.columns`: Obtém uma lista dos nomes de todas as colunas no DataFrame.\n",
    "- `dataset[col].dtype`: Obtém o tipo de dado de cada coluna.\n",
    "- `pd.DataFrame(columns_info)`: Converte a lista de dicionários columns_info em um DataFrame do Pandas.\n",
    "- `to_excel()`: Exporta o DataFrame para um arquivo Excel.\n"
   ]
  },
  {
   "cell_type": "code",
   "execution_count": null,
   "metadata": {},
   "outputs": [],
   "source": [
    "#Funcao para Exportar os dados numericos e categoricos\n",
    "\n",
    "def export_columns_types(dataset):\n",
    "    columns_info = [{'Coluna': col, 'Tipo': dataset[col].dtype} for col in dataset.columns] #Criacao do Dicionario com as colunas e seus tipos\n",
    "    df_columns_info = pd.DataFrame(columns_info) #Converter para um dataframe\n",
    "    return df_columns_info"
   ]
  },
  {
   "cell_type": "markdown",
   "metadata": {},
   "source": [
    "**3. Função:** numerical_descriptive_statistics\n",
    "\n",
    "**Descrição:** Esta função calcula e retorna estatísticas descritivas para todas as colunas numéricas de um DataFrame, como média, desvio padrão, valores mínimo e máximo, e quartis.\n",
    "\n",
    "**Parâmetros:**\n",
    "\n",
    "- dataset: O DataFrame cujas colunas numéricas serão analisadas.\n",
    "\n",
    "**Retorno:** Um DataFrame contendo estatísticas descritivas para todas as colunas numéricas.\n",
    "\n",
    "**Detalhamento do Código:**\n",
    "\n",
    "- `select_dtypes(include=['number'])`: Seleciona todas as colunas numéricas do DataFrame.\n",
    "- `describe()`: Calcula estatísticas descritivas para as colunas selecionadas, como média, desvio padrão, mínimo, máximo, e quartis.\n"
   ]
  },
  {
   "cell_type": "code",
   "execution_count": null,
   "metadata": {},
   "outputs": [],
   "source": [
    "#Funcao para exibir a estatistica descritiva das colunas numericas\n",
    "\n",
    "def numerical_descriptive_statistics(dataset):\n",
    "  numerical_columns = dataset.select_dtypes(include=['number']).columns #Separacao das colunas em numericas\n",
    "  numerical_statistics = dataset[numerical_columns].describe() #Definicao das estatisticas descritivas para as colunas numericas\n",
    "  return numerical_statistics"
   ]
  },
  {
   "cell_type": "markdown",
   "metadata": {},
   "source": [
    "**4. Função:** categorical_descriptive_statistics\n",
    "\n",
    "**Descrição:** Esta função calcula e retorna estatísticas descritivas para todas as colunas categóricas de um DataFrame, como contagem de valores únicos, moda, e frequência dos valores mais comuns.\n",
    "\n",
    "**Parâmetros:**\n",
    "\n",
    "- dataset: O DataFrame cujas colunas categóricas serão analisadas.\n",
    "\n",
    "**Retorno:** Um DataFrame contendo estatísticas descritivas para todas as colunas categóricas.\n",
    "\n",
    "**Detalhamento do Código:**\n",
    "\n",
    "- `select_dtypes(include=['object', 'category'])`: Seleciona todas as colunas categóricas do DataFrame.\n",
    "- `describe()`: Calcula estatísticas descritivas para as colunas selecionadas, como contagem de valores únicos, moda, e frequência dos valores mais comuns.\n"
   ]
  },
  {
   "cell_type": "code",
   "execution_count": null,
   "metadata": {},
   "outputs": [],
   "source": [
    "#Funcao para exibir a estatistica descritiva das colunas categoricas\n",
    "\n",
    "def categorical_descriptive_statistics(dataset):\n",
    "  categorical_columns = dataset.select_dtypes(include=['object', 'category']).columns #Separacao das colunas em categoricas\n",
    "  categorical_statistics = dataset[categorical_columns].describe() #Definicao das estatisticas descritivas para as colunas categoricas\n",
    "  return categorical_statistics"
   ]
  },
  {
   "cell_type": "markdown",
   "metadata": {},
   "source": [
    "**5. Função:** export_descriptive_statistics\n",
    "\n",
    "**Descrição:** Esta função exporta as estatísticas descritivas de todas as colunas numéricas e categóricas de um DataFrame para um arquivo Excel. É útil para documentar e analisar as principais métricas estatísticas de um conjunto de dados.\n",
    "\n",
    "**Parâmetros:**\n",
    "\n",
    "- dataset: O DataFrame cujas estatísticas descritivas serão exportadas.\n",
    "\n",
    "**Retorno:** Um arquivo Excel contendo as estatísticas descritivas para todas as colunas numéricas e categóricas.\n",
    "\n",
    "**Detalhamento do Código:**\n",
    "\n",
    "- `dataset.select_dtypes(include=['number']).describe()`: Calcula as estatísticas descritivas para todas as colunas numéricas, como média, desvio padrão, mínimo, máximo, e quartis.\n",
    "- `dataset.select_dtypes(include=['object', 'category']).describe()`: Calcula as estatísticas descritivas para todas as colunas categóricas, como contagem de valores únicos e moda.\n",
    "- `to_excel()`: Exporta as estatísticas descritivas para um arquivo Excel, permitindo fácil compartilhamento e visualização fora do ambiente de código.\n"
   ]
  },
  {
   "cell_type": "code",
   "execution_count": null,
   "metadata": {},
   "outputs": [],
   "source": [
    "#Funcao para exportar as estatisticas descritivas\n",
    "\n",
    "def export_descriptive_statistics(dataset):\n",
    "  numerical_statistics = numerical_descriptive_statistics(dataset) #Atribuicao da estatistica descritiva numerica para uma variavel\n",
    "  categorical_statistics = categorical_descriptive_statistics(dataset) #Atribuicao da estatistica descritiva categorica para uma variavel\n",
    "  return numerical_statistics.to_excel('estatisticas_numericas_'+ dataset +'.xlsx'), categorical_statistics.to_excel('estatisticas.categoricas_'+ dataset +'.xlsx') #Conversao das colunas numericas e categoricas para um arquivo em excel"
   ]
  },
  {
   "cell_type": "markdown",
   "metadata": {},
   "source": [
    "**6. Função:** correlation_graph\n",
    "\n",
    "**Descrição:** Esta função gera um mapa de calor (heatmap) da matriz de correlação para as colunas especificadas de um DataFrame, visualizando as correlações entre variáveis numéricas.\n",
    "\n",
    "**Parâmetros:**\n",
    "\n",
    "- dataset: O DataFrame cujas colunas serão analisadas para correlação.\n",
    "- columns (opcional): Uma lista de colunas específicas para incluir na matriz de correlação. Se None, todas as colunas numéricas serão incluídas.\n",
    "\n",
    "**Retorno:** Um gráfico de calor exibindo a matriz de correlação para as colunas especificadas.\n",
    "\n",
    "**Detalhamento do Código:**\n",
    "\n",
    "- `dataset[columns].corr()`: Calcula a matriz de correlação para as colunas especificadas no DataFrame.\n",
    "- `sns.heatmap(correlation_matrix, annot=True, cmap='coolwarm')`: Utiliza Seaborn para gerar um mapa de calor da matriz de correlação, com anotações para os coeficientes de correlação.\n"
   ]
  },
  {
   "cell_type": "code",
   "execution_count": null,
   "metadata": {},
   "outputs": [],
   "source": [
    "\n",
    "# Função para criar o gráfico de correlação do DataFrame\n",
    "def correlation_graph(dataset, columns=None):\n",
    "    if columns is None:\n",
    "        numerical_columns = dataset.select_dtypes(include=['number']).columns  # Seleciona todas as colunas numéricas se nenhuma lista for passada\n",
    "    else:\n",
    "        numerical_columns = columns  # Seleciona apenas as colunas especificadas\n",
    "    \n",
    "    correlation_matrix = dataset[numerical_columns].corr()  # Criação da matriz de correlação para as colunas numéricas\n",
    "    \n",
    "    plt.figure(figsize=(10, 8))\n",
    "    ax = sns.heatmap(correlation_matrix, annot=True, cmap='coolwarm', fmt=\".2f\")\n",
    "    plt.title('Matriz de Correlação')\n",
    "    plt.show()  # Exibe o gráfico\n",
    "    \n",
    "    return ax.get_figure()  # Retorna o objeto figure associado ao heatmap\n"
   ]
  },
  {
   "cell_type": "markdown",
   "metadata": {},
   "source": [
    "**7. Função:** boxplot_graph\n",
    "\n",
    "**Descrição:** Esta função cria um boxplot para visualizar a distribuição de uma variável numérica em relação a uma variável categórica.\n",
    "\n",
    "**Parâmetros:**\n",
    "\n",
    "- axis_x: Nome da coluna do eixo x (variável categórica).\n",
    "- axis_y: Nome da coluna do eixo y (variável numérica).\n",
    "- dataset: O DataFrame contendo as colunas especificadas.\n",
    "\n",
    "**Retorno:** Um boxplot visualizando a distribuição de valores de uma variável numérica para cada categoria da variável categórica.\n",
    "\n",
    "**Detalhamento do Código:**\n",
    "\n",
    "- `sns.boxplot(x=axis_x, y=axis_y, data=dataset):` Utiliza Seaborn para criar um boxplot que exibe a distribuição de uma variável numérica em relação a uma categórica.\n",
    "- `plt.title(), plt.xlabel(), plt.ylabel()`: Configurações para o título e rótulos dos eixos do gráfico.\n"
   ]
  },
  {
   "cell_type": "code",
   "execution_count": null,
   "metadata": {},
   "outputs": [],
   "source": [
    "# Funcao para criar um gráfico Boxplot com Swarmplot\n",
    "\n",
    "\n",
    "def boxplot_graph(axis_x, axis_y, dataset):\n",
    "    sns.set(style='whitegrid')  # Ajusta o estilo da plotagem do Seaborn\n",
    "    fig, ax = plt.subplots(figsize=(24, 16))  # Ajusta o tamanho da figura e cria o objeto Figure e Axes\n",
    "    \n",
    "    sns.boxplot(x=axis_x, y=axis_y, data=dataset, palette=\"Set3\", width=0.4, ax=ax)  # Cria o gráfico de boxplot\n",
    "    sns.swarmplot(x=axis_x, y=axis_y, data=dataset, color=\".25\", ax=ax)  # Adiciona o swarmplot para dados individuais\n",
    "\n",
    "    ax.set_title('Boxplot com ' + axis_x + \" e \" + axis_y, fontsize=16)  # Define o título do gráfico\n",
    "    ax.set_xlabel(axis_x, fontsize=14)  # Define o nome do eixo x\n",
    "    ax.set_ylabel(axis_y, fontsize=14)  # Define o nome do eixo y\n",
    "\n",
    "    ax.set_xticklabels(ax.get_xticklabels(), rotation=45, ha='right', fontsize=12)  # Rotaciona os rótulos do eixo X\n",
    "\n",
    "    return fig  # Retorna o objeto Figure para possível utilização posterior"
   ]
  },
  {
   "cell_type": "markdown",
   "metadata": {},
   "source": [
    "**8. Função**: violinplot_graph\n",
    "\n",
    "**Descrição:** Esta função gera um violin plot para visualizar a distribuição de dados de uma variável numérica em relação a uma variável categórica.\n",
    "\n",
    "**Parâmetros:**\n",
    "\n",
    "- axis_x: Nome da coluna do eixo x (variável categórica).\n",
    "- axis_y: Nome da coluna do eixo y (variável numérica).\n",
    "- dataset: O DataFrame contendo as colunas especificadas.\n",
    "\n",
    "**Retorno:** Um violin plot mostrando a distribuição da variável numérica para cada categoria da variável categórica.\n",
    "\n",
    "**Detalhamento do Código:**\n",
    "\n",
    "- `sns.violinplot(x=axis_x, y=axis_y, data=dataset)`: Utiliza Seaborn para criar um violin plot que combina características de boxplots e gráficos de densidade.\n",
    "- `plt.title(), plt.xlabel(), plt.ylabel()`: Configurações para o título e rótulos dos eixos do gráfico.\n"
   ]
  },
  {
   "cell_type": "code",
   "execution_count": null,
   "metadata": {},
   "outputs": [],
   "source": [
    "def violinplot_graph(axis_x, axis_y, dataset):\n",
    "    sns.set(style='whitegrid')  # Ajusta o estilo da plotagem do Seaborn\n",
    "    fig, ax = plt.subplots(figsize=(24, 16))  # Ajusta o tamanho da figura\n",
    "  \n",
    "    sns.violinplot(x=axis_x, y=axis_y, data=dataset, palette=\"Set2\", width=0.4, ax=ax)  # Cria o violinplot\n",
    "\n",
    "    ax.set_title('Violinplot com ' + axis_x + \" e \" + axis_y, fontsize=16)  # Definição do título do gráfico\n",
    "    ax.set_xlabel(axis_x, fontsize=14)  # Define o nome do eixo x\n",
    "    ax.set_ylabel(axis_y, fontsize=14)  # Define o nome do eixo y\n",
    "\n",
    "    ax.set_xticklabels(ax.get_xticklabels(), rotation=45, ha='right', fontsize=12)  # Rotaciona os rótulos do eixo X para evitar sobreposição\n",
    "  \n",
    "    return fig"
   ]
  },
  {
   "cell_type": "markdown",
   "metadata": {},
   "source": [
    "**9. Função:** swarmplot_graph\n",
    "\n",
    "**Descrição:** Esta função cria um swarm plot para visualizar a distribuição de pontos de dados individuais ao longo de uma variável categórica, proporcionando uma visualização clara de cada ponto de dados.\n",
    "\n",
    "**Parâmetros:**\n",
    "\n",
    "- axis_x: Nome da coluna do eixo x (variável categórica).\n",
    "- axis_y: Nome da coluna do eixo y (variável numérica).\n",
    "- dataset: O DataFrame contendo as colunas especificadas.\n",
    "\n",
    "**Retorno:** Um swarm plot mostrando a distribuição de pontos de dados individuais para cada categoria da variável categórica.\n",
    "\n",
    "**Detalhamento do Código:**\n",
    "\n",
    "- `sns.swarmplot(x=axis_x, y=axis_y, data=dataset)`: Utiliza Seaborn para criar um swarm plot, que posiciona pontos de dados individuais de modo a evitar sobreposição.\n",
    "- `plt.title(), plt.xlabel(), plt.ylabel()`: Configurações para o título e rótulos dos eixos do gráfico.\n"
   ]
  },
  {
   "cell_type": "code",
   "execution_count": null,
   "metadata": {},
   "outputs": [],
   "source": [
    "def swarmplot_graph(axis_x, axis_y, dataset):\n",
    "    sns.set(style='whitegrid')  # Ajusta o estilo da plotagem do Seaborn\n",
    "    fig, ax = plt.subplots(figsize=(12, 6))  # Ajusta o tamanho da figura\n",
    "  \n",
    "    sns.swarmplot(x=axis_x, y=axis_y, data=dataset, palette=\"coolwarm\", size=8, ax=ax)  # Cria o swarmplot\n",
    "\n",
    "    ax.set_title('Swarmplot com ' + axis_x + \" e \" + axis_y, fontsize=16)  # Definição do título do gráfico\n",
    "    ax.set_xlabel(axis_x, fontsize=14)  # Define o nome do eixo x\n",
    "    ax.set_ylabel(axis_y, fontsize=14)  # Define o nome do eixo y\n",
    "  \n",
    "    ax.set_xticklabels(ax.get_xticklabels(), rotation=45, ha='right', fontsize=12)  # Rotaciona os rótulos do eixo X\n",
    "\n",
    "    return fig\n"
   ]
  },
  {
   "cell_type": "markdown",
   "metadata": {},
   "source": [
    "**10. Função**: barplot_graph\n",
    "\n",
    "**Descrição**: Esta função gera um barplot para visualizar a média de uma variável numérica em relação a uma variável categórica, permitindo comparações de médias entre categorias.\n",
    "\n",
    "**Parâmetros**:\n",
    "\n",
    "- axis_x: Nome da coluna do eixo x (variável categórica).\n",
    "- axis_y: Nome da coluna do eixo y (variável numérica).\n",
    "- dataset: O DataFrame contendo as colunas especificadas.\n",
    "\n",
    "**Retorno**: Um barplot visualizando a média de uma variável numérica para cada categoria da variável categórica.\n",
    "\n",
    "**Detalhamento do Código**:\n",
    "\n",
    "- `sns.barplot(x=axis_x, y=axis_y, data=dataset)`: Utiliza Seaborn para criar um barplot que mostra a média de uma variável numérica para cada categoria.\n",
    "- `plt.title(), plt.xlabel(), plt.ylabel()`: Configurações para o título e rótulos dos eixos do gráfico.\n"
   ]
  },
  {
   "cell_type": "code",
   "execution_count": null,
   "metadata": {},
   "outputs": [],
   "source": [
    "def barplot_graph(axis_x, axis_y, dataset):\n",
    "    sns.set(style='whitegrid')  # Ajusta o estilo da plotagem do Seaborn\n",
    "    fig, ax = plt.subplots()  # Cria a figura e os eixos simultaneamente\n",
    "\n",
    "    sns.barplot(x=axis_x, y=axis_y, data=dataset, estimator=np.mean, ci=None, palette=\"Blues_d\", ax=ax)  # Cria o barplot\n",
    "\n",
    "    ax.set_title('Barplot com ' + axis_x + \" e \" + axis_y, fontsize=16)  # Define o título do gráfico\n",
    "    ax.set_xlabel(axis_x, fontsize=14)  # Define o nome do eixo x\n",
    "    ax.set_ylabel(axis_y, fontsize=14)  # Define o nome do eixo y\n",
    "\n",
    "    ax.set_xticklabels(ax.get_xticklabels(), rotation=45, ha='right', fontsize=12)  # Rotaciona os rótulos do eixo X\n",
    "\n",
    "    return fig"
   ]
  },
  {
   "cell_type": "markdown",
   "metadata": {},
   "source": [
    "#### 3. Conclusão\n",
    "\n",
    "Neste notebook, foi desenvolvido um conjunto de funções para facilitar a análise exploratória de dados (EDA). Estas funções tem como objetivo atender três aspectos principais da EDA, sendo esses a identificação dos tipos de colunas, as estatísticas descritivas e a visualização de dados.\n",
    "\n",
    "As funções para identificação dos tipos de colunas foram criadas para determinar e exportar os tipos de dados presentes em um DataFrame, separando colunas numéricas e categóricas, de forma a facilitar o entendimento a estrutura dos dados.\n",
    "\n",
    "Quanto as funções de estatísticas descritivas são utilizadas para calcular e exportar as estatísticas descritivas tanto para variáveis numéricas quanto para categóricas, resultando em uma visão geral das principais métricas estatísticas dos dados.\\n\",\n",
    "\n",
    "Por fim, as funções para visualizações de dadossão usadas para criar diferentes tipos de gráficos (boxplots, violin plots, swarm plots, barplots, e heatmaps de correlação) para ajudar na visualização das distribuições de dados, relações entre variáveis e identificação de outliers.\n",
    "\n",
    "Em resumo, essas funções foram criadas para serem reutilizadas nos diferentes dataframes disponibilizados para análise, com isso ao estabelecer a lógica de análise em funções, é possível facilitar que os métodos de EDA possam ser facilmente aplicados a diferentes conjuntos de dados e aumentar a eficiência do processo.\n",
    "\n",
    "Porém, a análise dos dados compreende apenas a primeira parte do processo de manipulação dos dados, sendo assim, a segunda parte do processo consiste no pré-processamento dos dados, que está definido no seguinte [notebook](./pre_processing.ipynb)\n"
   ]
  }
 ],
 "metadata": {
  "kernelspec": {
   "display_name": "Python 3",
   "language": "python",
   "name": "python3"
  },
  "language_info": {
   "codemirror_mode": {
    "name": "ipython",
    "version": 3
   },
   "file_extension": ".py",
   "mimetype": "text/x-python",
   "name": "python",
   "nbconvert_exporter": "python",
   "pygments_lexer": "ipython3",
   "version": "3.8.19"
  }
 },
 "nbformat": 4,
 "nbformat_minor": 2
}
