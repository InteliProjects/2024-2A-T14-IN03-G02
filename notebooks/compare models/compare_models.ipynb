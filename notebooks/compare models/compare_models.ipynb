{
 "cells": [
  {
   "cell_type": "markdown",
   "metadata": {},
   "source": [
    "# Comparação de algoritmos de modelos\n"
   ]
  },
  {
   "cell_type": "markdown",
   "metadata": {},
   "source": [
    "Este notebook faz parte de uma série de experimentos voltados para a aplicação de técnicas de aprendizado de máquina em problemas relacionados a dados esportivos, especificamente no contexto de competições de futebol. O objetivo é desenvolver modelos preditivos capazes de gerar insights e previsões valiosas a partir de dados históricos.\n",
    "\n",
    "Neste primeiro exemplo, nos concentramos na previsão do vencedor de partidas com base em características das equipes e das partidas. A abordagem envolve a construção, avaliação e comparação de vários modelos de machine learning, com a otimização de hiperparâmetros para melhorar o desempenho. No entanto, este notebook também serve como uma base para a aplicação de diferentes técnicas preditivas em outros contextos esportivos, como a previsão de número de gols, desempenho de jogadores, classificação em campeonatos, entre outros.\n",
    "\n",
    "A estrutura do notebook segue um fluxo padrão de um pipeline de aprendizado de máquina:\n",
    "\n",
    "1. Carregamento e pré-processamento dos dados: Incluindo a preparação das features e dos rótulos.\n",
    "2. Treinamento de múltiplos modelos: Modelos supervisionados são aplicados para resolver o problema de previsão.\n",
    "3. Avaliação dos modelos: Comparação das principais métricas de cada modelo para determinar o mais eficiente.\n",
    "4. Otimização de hiperparâmetros: Melhoria dos modelos por meio de ajustes finos de parâmetros.\n",
    "5. Visualização de resultados: Uso de gráficos para facilitar a interpretação das performances dos modelos.\n",
    "\n",
    "Este fluxo pode ser adaptado e estendido para outros cenários preditivos, permitindo que novas análises e previsões sejam exploradas em futuras versões deste notebook.\n"
   ]
  },
  {
   "cell_type": "markdown",
   "metadata": {},
   "source": [
    "# Modelo de quem vai ganhar\n"
   ]
  },
  {
   "cell_type": "markdown",
   "metadata": {},
   "source": [
    "Esta seção tem como objetivo criar e comparar diversos algoritmos de machine learning para prever o vencedor de partidas de futebol. A base de dados utilizada contém informações de várias equipes, e o objetivo final é desenvolver um modelo robusto para prever o time vencedor com base nas características do jogo. Além disso, realizaremos a otimização dos hiperparâmetros do melhor modelo encontrado para maximizar sua performance.\n"
   ]
  },
  {
   "cell_type": "markdown",
   "metadata": {},
   "source": [
    "## 1. Introdução\n"
   ]
  },
  {
   "cell_type": "markdown",
   "metadata": {},
   "source": [
    "O problema de previsão de resultados em esportes envolve diversas variáveis e padrões complexos, que podem ser capturados por diferentes técnicas de aprendizado de máquina. Neste notebook, trabalharemos com diferentes modelos de classificação e compararemos suas performances. Os algoritmos serão treinados com um conjunto de dados histórico, contendo informações sobre as equipes, as partidas, e o vencedor de cada partida.\n",
    "\n",
    "O fluxo de trabalho deste notebook segue as etapas tradicionais de um pipeline de machine learning:\n",
    "\n",
    "Carregamento e pré-processamento dos dados: Dividimos os dados em variáveis independentes (features) e dependentes (rótulo), realizamos o split entre treino e teste, e padronizamos as variáveis numéricas, se necessário.\n",
    "Treinamento de múltiplos modelos: Diversos algoritmos de classificação serão utilizados para prever o vencedor de cada partida.\n",
    "Avaliação dos modelos: Utilizaremos métricas como accuracy_score, precision, recall e f1_score para medir a performance dos modelos.\n",
    "Otimização de hiperparâmetros: Aplicaremos o GridSearchCV para ajustar os hiperparâmetros do modelo que apresentar o melhor desempenho.\n"
   ]
  },
  {
   "cell_type": "markdown",
   "metadata": {},
   "source": [
    "## 2. Desenvolvimento\n"
   ]
  },
  {
   "cell_type": "markdown",
   "metadata": {},
   "source": [
    "### 2.1. Carregamento dos Dados\n"
   ]
  },
  {
   "cell_type": "markdown",
   "metadata": {},
   "source": [
    "Nesta seção, carregamos o dataset e preparamos os dados para o modelo. A variável alvo winner indica o time vencedor da partida, enquanto as outras colunas do dataset fornecem informações sobre os jogos e as equipes.\n"
   ]
  },
  {
   "cell_type": "code",
   "execution_count": 5,
   "metadata": {},
   "outputs": [],
   "source": [
    "from sklearn.model_selection import train_test_split\n",
    "from sklearn.preprocessing import StandardScaler\n",
    "from sklearn.linear_model import LogisticRegression\n",
    "from sklearn.tree import DecisionTreeClassifier\n",
    "from sklearn.ensemble import RandomForestClassifier, GradientBoostingClassifier\n",
    "import xgboost as xgb\n",
    "import lightgbm as lgb\n",
    "from sklearn.metrics import classification_report\n",
    "from sklearn.model_selection import GridSearchCV\n",
    "import pandas as pd\n",
    " \n",
    "teams_with_matches = pd.read_csv('teams_with_matches_normalized.csv')\n",
    "# Carregar o dataset novamente\n",
    "df = teams_with_matches\n",
    "\n",
    "# Separar o rótulo (resultado do vencedor)\n",
    "y = df['winner']\n",
    "X = df.drop(columns=['winner'])\n",
    "X = X.iloc[:, 32:]\n",
    "# Separar em treino e teste\n",
    "X_train, X_test, y_train, y_test = train_test_split(X, y, test_size=0.2, random_state=0)"
   ]
  },
  {
   "cell_type": "markdown",
   "metadata": {},
   "source": [
    "### 2.2. Função de Avaliação dos Modelos\n",
    "\n",
    "Criamos uma função para treinar e avaliar cada modelo. Essa função utiliza o conjunto de treino para ajustar o modelo e, em seguida, faz previsões no conjunto de teste. O desempenho é medido com um classification_report, que mostra métricas como precisão, recall e F1-score.\n"
   ]
  },
  {
   "cell_type": "code",
   "execution_count": 6,
   "metadata": {},
   "outputs": [],
   "source": [
    "# Função para treinar, prever e imprimir o classification report\n",
    "def evaluate_model(model, model_name):\n",
    "    model.fit(X_train, y_train)\n",
    "    y_pred = model.predict(X_test)\n",
    "    print(f\"Classification Report for {model_name}:\\n\")\n",
    "    print(classification_report(y_test, y_pred))"
   ]
  },
  {
   "cell_type": "markdown",
   "metadata": {},
   "source": [
    "## 3. Modelos de Classificação\n",
    "\n",
    "Nesta seção, utilizamos diferentes algoritmos de aprendizado supervisionado para a tarefa de classificação. Cada modelo será treinado com os mesmos dados e avaliado para comparação.\n"
   ]
  },
  {
   "cell_type": "markdown",
   "metadata": {},
   "source": [
    "### 3.1. Regressão Logística\n",
    "\n",
    "Descrição: A regressão logística é um algoritmo simples de classificação que estima a probabilidade de uma observação pertencer a uma classe. Funciona bem em problemas lineares, onde as variáveis de entrada estão linearmente relacionadas com a variável alvo. No entanto, para problemas mais complexos, ela pode ser menos eficaz.\n",
    "\n",
    "Parâmetros principais:\n",
    "\n",
    "- penalty: O tipo de penalização aplicada ao modelo para evitar overfitting (neste caso, l2).\n",
    "- C: Controla a força da regularização (quanto menor o valor, maior a regularização).\n",
    "- solver: Algoritmo usado para otimizar o problema (aqui usamos lbfgs).\n"
   ]
  },
  {
   "cell_type": "code",
   "execution_count": null,
   "metadata": {},
   "outputs": [],
   "source": [
    "# 1. Logistic Regression\n",
    "log_reg = LogisticRegression( penalty='l2',  # Penalidade ('l1', 'l2', 'elasticnet', 'none')\n",
    "    C=1.0,  # Parâmetro de regularização (menor valor = mais regularização)\n",
    "    solver='lbfgs',  # Algoritmo de otimização ('newton-cg', 'lbfgs', 'liblinear', etc.)\n",
    "    max_iter=1000,  # Número máximo de iterações\n",
    "    class_weight=None,  # Peso das classes (balanceado ou None)\n",
    ")\n",
    "evaluate_model(log_reg, \"Logistic Regression\")"
   ]
  },
  {
   "cell_type": "markdown",
   "metadata": {},
   "source": [
    "### 3.2. Árvore de Decisão\n",
    "\n",
    "Descrição: As árvores de decisão são algoritmos que segmentam os dados em subconjuntos baseados em condições nas features, criando uma estrutura de árvore. Elas são interpretáveis, mas podem se tornar muito complexas e propensas a overfitting se não forem podadas adequadamente.\n",
    "\n",
    "Parâmetros principais:\n",
    "\n",
    "- criterion: Critério usado para medir a qualidade das divisões (gini ou entropy).\n",
    "- max_depth: A profundidade máxima da árvore para controlar sua complexidade.\n",
    "- min_samples_split: O número mínimo de amostras exigido para dividir um nó.\n"
   ]
  },
  {
   "cell_type": "code",
   "execution_count": null,
   "metadata": {},
   "outputs": [],
   "source": [
    "# 2. Decision Tree\n",
    "decision_tree = DecisionTreeClassifier(  criterion='gini',  # Função de critério ('gini' ou 'entropy')\n",
    "    splitter='best',  # Estratégia de divisão ('best' ou 'random')\n",
    "    max_depth=None,  # Profundidade máxima da árvore\n",
    "    min_samples_split=10,  # Mínimo de amostras para dividir um nó\n",
    "    min_samples_leaf=5,  # Mínimo de amostras em uma folha\n",
    "    max_features=300,  # Máximo de características a serem consideradas\n",
    "    random_state=None  # Semente de randomização\n",
    ")\n",
    "evaluate_model(decision_tree, \"Decision Tree\")"
   ]
  },
  {
   "cell_type": "markdown",
   "metadata": {},
   "source": [
    "### 3.3. Random Forest\n",
    "\n",
    "Descrição: O Random Forest é uma combinação de várias árvores de decisão que funcionam em paralelo. Ele constrói múltiplas árvores e usa uma média para aumentar a precisão e evitar o overfitting, tornando-se robusto a dados ruidosos.\n",
    "\n",
    "Parâmetros principais:\n",
    "\n",
    "- n_estimators: Número de árvores na floresta.\n",
    "- min_samples_split e min_samples_leaf: Parâmetros para controlar o número mínimo de amostras em nós internos e folhas.\n",
    "- criterion: Função de medição da qualidade do split.\n"
   ]
  },
  {
   "cell_type": "code",
   "execution_count": null,
   "metadata": {},
   "outputs": [],
   "source": [
    "# 3. Random Forest\n",
    "random_forest = RandomForestClassifier( \n",
    "    n_estimators=100,  # Número de árvores na floresta\n",
    "    criterion='gini',  # Função de critério ('gini' ou 'entropy')\n",
    "    max_depth=None,  # Profundidade máxima da árvore\n",
    "    min_samples_split=30,  # Mínimo de amostras para dividir um nó\n",
    "    min_samples_leaf=25,  # Mínimo de amostras em uma folha\n",
    "    # max_features='auto',  # Máximo de características a serem consideradas\n",
    "    bootstrap=True,  # Usar amostras com reposição\n",
    ")\n",
    "evaluate_model(random_forest, \"Random Forest\")"
   ]
  },
  {
   "cell_type": "markdown",
   "metadata": {},
   "source": [
    "### 3.4. XGBoost\n",
    "\n",
    "Descrição: O XGBoost (Extreme Gradient Boosting) é um algoritmo de boosting que constrói árvores de decisão sequencialmente, corrigindo os erros das árvores anteriores. Ele é muito eficaz em dados tabulares e é conhecido por ser rápido e eficiente.\n",
    "\n",
    "Parâmetros principais:\n",
    "\n",
    "- learning_rate: Controla a taxa de aprendizado, ou quão rápido o modelo se ajusta.\n",
    "- n_estimators: Número de árvores de boosting.\n",
    "- subsample: Proporção de amostras usadas para cada árvore.\n"
   ]
  },
  {
   "cell_type": "code",
   "execution_count": null,
   "metadata": {},
   "outputs": [],
   "source": [
    "# 4. XGBoost\n",
    "xgboost = xgb.XGBClassifier(\n",
    "    n_estimators=7,  # Número de árvores\n",
    "    learning_rate=0.75,  # Taxa de aprendizado\n",
    "    booster='gbtree',  # Tipo de booster\n",
    "    subsample=0.2,  # Proporção de amostras usadas\n",
    "    colsample_bytree=0.2,  # Proporção de features usadas\n",
    "    gamma=0,  # Regularização\n",
    "    reg_alpha=0,  # Regularização L1\n",
    "    reg_lambda=1,  # Regularização L2\n",
    "    random_state=0,  # Seed para reproducibilidade\n",
    "    objective='multi:softprob',  # Configuração multiclasse\n",
    "    num_class=3  # Definir o número de classes (ganhou, perdeu, empatou)\n",
    ")\n",
    "\n",
    "evaluate_model(xgboost, \"XGBoost\")"
   ]
  },
  {
   "cell_type": "markdown",
   "metadata": {},
   "source": [
    "### 3.5. LightGBM\n",
    "\n",
    "Descrição: O LightGBM (Light Gradient Boosting Machine) é outro algoritmo de boosting que constrói árvores de decisão sequencialmente. Ele é otimizado para grandes conjuntos de dados e é conhecido por ser mais rápido que o XGBoost em alguns cenários.\n",
    "\n",
    "Parâmetros principais:\n",
    "\n",
    "- num_leaves: O número máximo de folhas que uma árvore pode ter, controlando a complexidade do modelo.\n",
    "- boosting_type: O tipo de boosting usado (gbdt é o mais comum).\n",
    "- subsample: Fração dos dados usados para treinar cada árvore.\n"
   ]
  },
  {
   "cell_type": "code",
   "execution_count": null,
   "metadata": {},
   "outputs": [],
   "source": [
    "# 5. LightGBM\n",
    "lightgbm = lgb.LGBMClassifier(\n",
    "    n_estimators=1000,  # Número de árvores\n",
    "    learning_rate=0.5,  # Taxa de aprendizado\n",
    "    max_depth=-1,  # Profundidade máxima da árvore\n",
    "    num_leaves=25,  # Número máximo de folhas em uma árvore\n",
    "    boosting_type='gbdt',  # Tipo de boosting ('gbdt', 'dart', 'goss')\n",
    "    subsample=.4,  # Proporção de amostras usadas para treinamento\n",
    "    colsample_bytree=.25,  # Proporção de características usadas em cada árvore\n",
    "    reg_alpha=0.7,  # Termo de regularização L1\n",
    "    reg_lambda=0.3,  # Termo de regularização L2\n",
    "    random_state=None,  # Semente de randomização,\n",
    "    verbose=-1\n",
    ")\n",
    "evaluate_model(lightgbm, \"LightGBM\")"
   ]
  },
  {
   "cell_type": "markdown",
   "metadata": {},
   "source": [
    "### 3.6. Gradient Boosting Classifier\n",
    "\n",
    "Descrição: O Gradient Boosting é uma técnica de ensemble que ajusta repetidamente novos modelos nos resíduos do conjunto de dados. Ele constrói árvores de decisão sequencialmente e pode alcançar alta precisão em muitas tarefas.\n",
    "\n",
    "Parâmetros principais:\n",
    "\n",
    "- n_estimators: Número de estágios de boosting.\n",
    "- learning_rate: O quanto o modelo se ajusta ao erro de cada estágio.\n",
    "- max_depth: Profundidade máxima das árvores.\n"
   ]
  },
  {
   "cell_type": "code",
   "execution_count": null,
   "metadata": {},
   "outputs": [],
   "source": [
    "# 6. Gradient Boosting Classifier\n",
    "gradient_boosting = GradientBoostingClassifier(\n",
    "    n_estimators=15,  # Número de estágios de boosting\n",
    "    learning_rate=0.15,  # Taxa de aprendizado\n",
    "    max_depth=None,  # Profundidade máxima das árvores\n",
    "    min_samples_split=10,  # Mínimo de amostras para dividir um nó\n",
    "    min_samples_leaf=8,  # Mínimo de amostras em uma folha\n",
    "    subsample=.25,  # Proporção de amostras usadas para treinamento\n",
    "    max_features=50000,  # Máximo de características a serem consideradas\n",
    "    random_state=None  # Semente de randomização\n",
    ")\n",
    "evaluate_model(gradient_boosting, \"Gradient Boosting\")"
   ]
  },
  {
   "cell_type": "markdown",
   "metadata": {},
   "source": [
    "## 4. Otimização de Hiperparâmetros\n",
    "\n",
    "Após a avaliação inicial do modelo de Random Forest, foi observado que o modelo apresentou uma acurácia alta de aproximadamente 63%, o que indica que o modelo é capaz de acertar a maioria das classificações. No entanto, o F1-score foi relativamente mais baixo, em torno de 55%, sugerindo que o modelo está enfrentando problemas com o balanceamento entre precisão e recall. O F1-score é uma métrica importante em cenários onde há um desbalanceamento entre as classes ou onde tanto os falsos positivos quanto os falsos negativos precisam ser minimizados.\n",
    "\n",
    "Neste contexto, o objetivo da otimização de hiperparâmetros é encontrar uma combinação de valores que possa melhorar o F1-score sem comprometer a acurácia. O Random Forest é um modelo altamente robusto, composto por múltiplas árvores de decisão, que trabalha bem tanto com dados balanceados quanto desbalanceados, além de ser menos suscetível ao overfitting do que árvores de decisão individuais. No entanto, a escolha adequada dos hiperparâmetros pode aprimorar ainda mais o equilíbrio entre as métricas de precisão e recall, refletidas diretamente no F1-score.\n",
    "\n",
    "A seguir estão os principais hiperparâmetros que podemos ajustar no Random Forest:\n",
    "\n",
    "- n_estimators: Define o número de árvores na floresta. Um número maior de árvores geralmente melhora o desempenho, mas também aumenta o tempo de computação. É crucial encontrar o valor ideal que equilibre desempenho e eficiência.\n",
    "\n",
    "- criterion: Define a função de avaliação utilizada para medir a qualidade das divisões nas árvores. As opções são:\n",
    "\n",
    "  - gini: Mede a impureza de Gini (como nas árvores de decisão).\n",
    "  - entropy: Usa o ganho de informação para medir a qualidade da divisão.\n",
    "  - max_depth: Limita a profundidade máxima de cada árvore. Definir uma profundidade máxima apropriada ajuda a prevenir o overfitting, onde o modelo se ajusta demais aos dados de treino e não generaliza bem para novos dados.\n",
    "\n",
    "- min_samples_split: Define o número mínimo de amostras necessárias para dividir um nó. Aumentar esse valor ajuda a controlar o crescimento das árvores e pode reduzir o overfitting, já que exige que mais amostras estejam presentes antes de permitir uma divisão.\n",
    "\n",
    "- min_samples_leaf: Define o número mínimo de amostras que devem estar presentes em uma folha. Controlar esse valor pode ajudar a reduzir o número de folhas muito pequenas, contribuindo para um modelo mais generalizável.\n",
    "\n",
    "- bootstrap: Define se as amostras devem ser escolhidas com reposição ao construir as árvores. O uso de bootstrap aumenta a robustez do modelo, pois cada árvore é treinada em diferentes subconjuntos dos dados.\n",
    "\n",
    "Para realizar a otimização desses parâmetros, utilizamos o GridSearchCV. O GridSearchCV executa uma busca exaustiva sobre todos os valores possíveis para cada hiperparâmetro especificado em um grid (grade) de parâmetros. Durante o processo, o modelo será ajustado usando diferentes combinações desses parâmetros, e o melhor conjunto será escolhido com base no F1-score ponderado. Esta abordagem de busca é computacionalmente intensiva, mas fornece resultados muito precisos.\n",
    "\n",
    "Neste caso, o foco será melhorar o F1-score do modelo, que é uma média ponderada de precisão e recall. Melhorar o F1-score ajudará a equilibrar melhor o número de falsos positivos e falsos negativos, reduzindo os erros que podem ser mais críticos dependendo do contexto da aplicação.\n",
    "\n",
    "A seguir, aplicamos a otimização de hiperparâmetros ao modelo de Random Forest, buscando melhorar seu desempenho geral.\n"
   ]
  },
  {
   "cell_type": "code",
   "execution_count": null,
   "metadata": {},
   "outputs": [],
   "source": [
    "# Definindo a grade de hiperparâmetros para otimização\n",
    "param_grid = {\n",
    "    'n_estimators': [5, 7, 10, 25, 50, 75, 100, 125, 150],  # Número de árvores na floresta\n",
    "    'max_depth': [None, 10, 20, 5, 25, 50, 100],  # Profundidade máxima da árvore\n",
    "    'min_samples_split': [2, 5, 10, 30, 50, 75, 100],  # Mínimo de amostras para dividir um nó\n",
    "    'min_samples_leaf': [1, 2, 4, 10, 15, 25, 50, 75, 100],  # Mínimo de amostras em uma folha\n",
    "    'criterion': ['gini', 'entropy'],\n",
    "    'bootstrap': [True, False]\n",
    "}\n",
    "\n",
    "# Aplicando o GridSearchCV para encontrar os melhores hiperparâmetros\n",
    "grid_search = GridSearchCV(estimator=random_forest, param_grid=param_grid, cv=5, n_jobs=-1, verbose=1)\n",
    "grid_search.fit(X_train, y_train)\n",
    "\n",
    "# Exibindo os melhores hiperparâmetros encontrados\n",
    "print(\"Melhores hiperparâmetros encontrados:\", grid_search.best_params_)\n",
    "\n",
    "# Avaliando o desempenho com os melhores hiperparâmetros no conjunto de teste\n",
    "best_model = grid_search.best_estimator_\n",
    "y_pred = best_model.predict(X_test)\n",
    "\n",
    "print(\"\\nClassification Report for Optimized Random Forest:\\n\")\n",
    "print(classification_report(y_test, y_pred))"
   ]
  },
  {
   "cell_type": "code",
   "execution_count": null,
   "metadata": {},
   "outputs": [],
   "source": [
    "# Definindo a grade de hiperparâmetros para a Regressão Logística\n",
    "param_grid = [\n",
    "    # lbfgs suporta apenas 'l2'\n",
    "    {'solver': ['lbfgs'], 'penalty': ['l2'], 'C': [0.001, 0.01, 0.1, 1, 10, 100], 'class_weight': [None, 'balanced'], 'max_iter': [100, 500, 1000]},\n",
    "    # liblinear suporta 'l1' e 'l2'\n",
    "    {'solver': ['liblinear'], 'penalty': ['l1', 'l2'], 'C': [0.001, 0.01, 0.1, 1, 10, 100], 'class_weight': [None, 'balanced'], 'max_iter': [100, 500, 1000]},\n",
    "    # saga suporta 'l1', 'l2', e 'elasticnet' (adicionando 'l1_ratio' para 'elasticnet')\n",
    "    {'solver': ['saga'], 'penalty': ['l1', 'l2'], 'C': [0.001, 0.01, 0.1, 1, 10, 100], 'class_weight': [None, 'balanced'], 'max_iter': [100, 500, 1000]},\n",
    "    {'solver': ['saga'], 'penalty': ['elasticnet'], 'l1_ratio': [0.1, 0.5, 0.9], 'C': [0.001, 0.01, 0.1, 1, 10, 100], 'class_weight': [None, 'balanced'], 'max_iter': [100, 500, 1000]},\n",
    "    # sag suporta apenas 'l2'\n",
    "    {'solver': ['sag'], 'penalty': ['l2'], 'C': [0.001, 0.01, 0.1, 1, 10, 100], 'class_weight': [None, 'balanced'], 'max_iter': [100, 500, 1000]},\n",
    "]\n",
    "\n",
    "# Aplicando o GridSearchCV\n",
    "grid_search = GridSearchCV(estimator=log_reg, param_grid=param_grid, cv=5, n_jobs=-1, verbose=1)\n",
    "grid_search.fit(X_train, y_train)\n",
    "\n",
    "print(\"Melhores hiperparâmetros para Logistic Regression:\", grid_search.best_params_)\n"
   ]
  },
  {
   "cell_type": "code",
   "execution_count": null,
   "metadata": {},
   "outputs": [],
   "source": [
    "# Definindo a grade de hiperparâmetros para a Árvore de Decisão\n",
    "param_grid = {\n",
    "    'criterion': ['gini', 'entropy'],\n",
    "    'splitter': ['best', 'random'],\n",
    "    'max_depth': [None, 10, 20, 5, 25, 50, 100],\n",
    "    'min_samples_split': [2, 5, 10, 30, 50],\n",
    "    'min_samples_leaf': [1, 2, 5, 10, 15],\n",
    "    'max_features': [None, 'sqrt', 'log2']  # Removido 'auto'\n",
    "}\n",
    "\n",
    "# Aplicando o GridSearchCV\n",
    "grid_search = GridSearchCV(estimator=decision_tree, param_grid=param_grid, cv=5, n_jobs=-1, verbose=1)\n",
    "grid_search.fit(X_train, y_train)\n",
    "\n",
    "print(\"Melhores hiperparâmetros para Decision Tree:\", grid_search.best_params_)\n"
   ]
  },
  {
   "cell_type": "code",
   "execution_count": null,
   "metadata": {},
   "outputs": [],
   "source": [
    "# Definindo a grade de hiperparâmetros\n",
    "param_grid = {\n",
    "    'n_estimators': [10, 50, 100, 200],\n",
    "    'learning_rate': [0.01, 0.1, 0.3, 0.5, 0.75],\n",
    "    'subsample': [0.2, 0.5, 0.8, 1.0],\n",
    "    'colsample_bytree': [0.2, 0.5, 0.8, 1.0],\n",
    "    'gamma': [0, 0.1, 0.5, 1],\n",
    "    'reg_alpha': [0, 0.1, 0.5, 1],\n",
    "    'reg_lambda': [0, 0.1, 0.5, 1]\n",
    "}\n",
    "\n",
    "# Aplicando o GridSearchCV\n",
    "grid_search = GridSearchCV(estimator=xgboost, param_grid=param_grid, cv=5, n_jobs=-1, verbose=1)\n",
    "grid_search.fit(X_train, y_train)\n",
    "\n",
    "print(\"Melhores hiperparâmetros para XGBoost:\", grid_search.best_params_)\n"
   ]
  },
  {
   "cell_type": "code",
   "execution_count": null,
   "metadata": {},
   "outputs": [],
   "source": [
    "# Definindo a grade de hiperparâmetros\n",
    "param_grid = {\n",
    "    'n_estimators': [100, 200, 500, 1000],\n",
    "    'learning_rate': [0.01, 0.1, 0.3, 0.5],\n",
    "    'num_leaves': [20, 30, 40, 50],\n",
    "    'subsample': [0.4, 0.6, 0.8, 1.0],\n",
    "    'colsample_bytree': [0.25, 0.5, 0.75, 1.0],\n",
    "    'reg_alpha': [0, 0.1, 0.5, 1],\n",
    "    'reg_lambda': [0, 0.1, 0.5, 1]\n",
    "}\n",
    "\n",
    "# Aplicando o GridSearchCV\n",
    "grid_search = GridSearchCV(estimator=lightgbm, param_grid=param_grid, cv=5, n_jobs=-1, verbose=1)\n",
    "grid_search.fit(X_train, y_train)\n",
    "\n",
    "print(\"Melhores hiperparâmetros para LightGBM:\", grid_search.best_params_)\n"
   ]
  },
  {
   "cell_type": "markdown",
   "metadata": {},
   "source": [
    "## 5. Comparação de Desempenho dos Modelos\n",
    "\n",
    "Para entender qual modelo tem melhor desempenho na previsão do vencedor das partidas, é importante comparar várias métricas como acurácia, precisão, recall, F1-score e AUC (Área sob a Curva ROC). Cada métrica fornece uma perspectiva única sobre a performance do modelo, e juntas elas ajudam a identificar o algoritmo mais adequado para o problema.\n",
    "\n",
    "A seguir, coletamos as principais métricas de cada modelo, as organizamos em um DataFrame, e as visualizamos em gráficos comparativos para facilitar a interpretação.\n"
   ]
  },
  {
   "cell_type": "markdown",
   "metadata": {},
   "source": [
    "### 5.1. Coletando as Métricas\n",
    "\n",
    "Nesta seção, definimos uma função chamada collect_metrics para coletar as principais métricas de desempenho de cada modelo: acurácia, precisão, recall e F1-score. Esses indicadores são cruciais para avaliar a performance dos modelos de classificação, pois cada um fornece insights diferentes sobre os erros cometidos pelos modelos.\n",
    "\n",
    "Descrição das métricas:\n",
    "Acurácia (Accuracy): A proporção de previsões corretas em relação ao total de previsões. É uma métrica global que funciona bem quando há equilíbrio entre as classes.\n",
    "Precisão (Precision): A razão entre as previsões corretas de uma determinada classe e todas as previsões feitas para essa classe. Isso mede a qualidade das previsões feitas, sendo importante quando o foco é minimizar falsos positivos.\n",
    "Recall: A razão entre as previsões corretas de uma classe e o número total de verdadeiros exemplos dessa classe. É crucial quando o foco é reduzir falsos negativos, por exemplo, em casos onde perder uma classe positiva é mais custoso.\n",
    "F1 Score: A média harmônica entre a precisão e o recall. Esta métrica é útil quando queremos equilibrar as duas, ou seja, quando há uma compensação entre a precisão e o recall.\n",
    "Código para coleta das métricas:\n"
   ]
  },
  {
   "cell_type": "code",
   "execution_count": null,
   "metadata": {},
   "outputs": [],
   "source": [
    "from sklearn.metrics import accuracy_score, precision_score, recall_score, f1_score\n",
    "import pandas as pd\n",
    "\n",
    "# Função para calcular as métricas de desempenho de cada modelo\n",
    "def collect_metrics(model, model_name):\n",
    "    model.fit(X_train, y_train)\n",
    "    y_pred = model.predict(X_test)\n",
    "    \n",
    "    # Coletando métricas\n",
    "    metrics = {\n",
    "        'Model': model_name,\n",
    "        'Accuracy': accuracy_score(y_test, y_pred),\n",
    "        'Precision': precision_score(y_test, y_pred, average='weighted'),\n",
    "        'Recall': recall_score(y_test, y_pred, average='weighted'),\n",
    "        'F1 Score': f1_score(y_test, y_pred, average='weighted')\n",
    "    }\n",
    "    \n",
    "    return metrics\n",
    "\n",
    "# Lista de modelos e seus nomes\n",
    "models = [\n",
    "    (log_reg, \"Logistic Regression\"),\n",
    "    (decision_tree, \"Decision Tree\"),\n",
    "    (random_forest, \"Random Forest\"),\n",
    "    (xgboost, \"XGBoost\"),\n",
    "    (lightgbm, \"LightGBM\"),\n",
    "    (gradient_boosting, \"Gradient Boosting\"),\n",
    "    (best_model, \"Optimized Random Forest\")\n",
    "]\n",
    "\n",
    "# Coletar as métricas de cada modelo e armazenar em uma lista\n",
    "metrics_list = []\n",
    "for model, model_name in models:\n",
    "    metrics_list.append(collect_metrics(model, model_name))\n",
    "\n",
    "# Criar um DataFrame com os resultados das métricas\n",
    "metrics_df = pd.DataFrame(metrics_list)\n",
    "metrics_df.sort_values(by='F1 Score', ascending=False, inplace=True)\n",
    "print(metrics_df)"
   ]
  },
  {
   "cell_type": "markdown",
   "metadata": {},
   "source": [
    "Explicação:\n",
    "\n",
    "- A função collect_metrics recebe como parâmetros o modelo e o nome do modelo, treina o modelo nos dados de treino e faz previsões nos dados de teste.\n",
    "- As métricas de desempenho (acurácia, precisão, recall e F1-score) são calculadas para cada modelo e armazenadas em um dicionário, que posteriormente será convertido em um DataFrame para facilitar a visualização.\n",
    "- A lista models contém os algoritmos que estamos comparando, e a função collect_metrics é aplicada a cada modelo dessa lista.\n",
    "- O resultado final é um DataFrame com as métricas de todos os modelos, pronto para ser visualizado.\n"
   ]
  },
  {
   "cell_type": "markdown",
   "metadata": {},
   "source": [
    "### 5.2. Visualizando as Métricas\n"
   ]
  },
  {
   "cell_type": "markdown",
   "metadata": {},
   "source": [
    "Agora que temos um DataFrame com todas as métricas, podemos criar um gráfico de barras para comparar os desempenhos dos modelos de forma visual. Utilizaremos a biblioteca seaborn para criar um gráfico que mostre como cada modelo se saiu em termos de acurácia, precisão, recall e F1-score.\n"
   ]
  },
  {
   "cell_type": "code",
   "execution_count": null,
   "metadata": {},
   "outputs": [],
   "source": [
    "import seaborn as sns\n",
    "import matplotlib.pyplot as plt\n",
    "\n",
    "# Função para criar o gráfico de comparação de desempenho\n",
    "def plot_model_performance(metrics_df):\n",
    "    # Converter o DataFrame para o formato 'long' para facilitar a plotagem\n",
    "    metrics_melted = pd.melt(metrics_df, id_vars=\"Model\", var_name=\"Metric\", value_name=\"Value\")\n",
    "    \n",
    "    # Criar o gráfico\n",
    "    plt.figure(figsize=(12, 6))\n",
    "    sns.barplot(x=\"Metric\", y=\"Value\", hue=\"Model\", data=metrics_melted)\n",
    "    \n",
    "    # Configurar título e rótulos do gráfico\n",
    "    plt.title(\"Comparação de Desempenho dos Modelos\")\n",
    "    plt.ylabel(\"Valor\")\n",
    "    plt.xticks(rotation=45)\n",
    "    plt.legend(loc='lower right')\n",
    "    plt.show()\n",
    "\n",
    "# Chamar a função para exibir o gráfico\n",
    "plot_model_performance(metrics_df)\n"
   ]
  },
  {
   "cell_type": "markdown",
   "metadata": {},
   "source": [
    "Explicação:\n",
    "\n",
    "- A função plot_model_performance recebe o DataFrame com as métricas e reorganiza os dados em um formato \"long\" usando pd.melt(). Isso facilita a plotagem das métricas em gráficos de barras.\n",
    "- O gráfico gerado mostra cada métrica no eixo x (acurácia, precisão, recall e F1-score), enquanto o eixo y mostra os valores dessas métricas. Cada cor no gráfico representa um modelo diferente.\n",
    "- Objetivo do gráfico: Facilitar a visualização das métricas de desempenho de todos os modelos em uma única imagem, permitindo uma comparação clara e direta entre eles.\n"
   ]
  },
  {
   "cell_type": "markdown",
   "metadata": {},
   "source": [
    "### 5.3 Adicionando Curva ROC e AUC para Comparação de Modelos\n",
    "\n",
    "Agora, para fornecer uma visão mais completa da performance dos modelos, adicionaremos a curva ROC e os valores de AUC (Área Sob a Curva ROC). A curva ROC ajuda a visualizar a relação entre a taxa de verdadeiros positivos e a taxa de falsos positivos, enquanto o valor de AUC fornece uma única métrica para avaliar a qualidade do modelo. Quanto mais próxima de 1 a AUC, melhor a capacidade do modelo de distinguir entre as classes.\n"
   ]
  },
  {
   "cell_type": "code",
   "execution_count": null,
   "metadata": {},
   "outputs": [],
   "source": [
    "from sklearn.preprocessing import label_binarize\n",
    "from sklearn.metrics import roc_curve, auc\n",
    "from sklearn.multiclass import OneVsRestClassifier\n",
    "from itertools import cycle\n",
    "import xgboost as xgb\n",
    "\n",
    "# Função para plotar a curva ROC em um cenário multiclass\n",
    "def plot_roc_curve_multiclass(models, X_test, y_test, n_classes):\n",
    "    # Binarizar as classes para multiclass ROC Curve\n",
    "    y_test_binarized = label_binarize(y_test, classes=range(n_classes))\n",
    "    \n",
    "    plt.figure(figsize=(10, 8))\n",
    "    \n",
    "    # Iterar sobre todos os modelos\n",
    "    for model, model_name in models:\n",
    "        # One-vs-Rest (OvR) para multiclass ROC\n",
    "        classifier = OneVsRestClassifier(model)\n",
    "        classifier.fit(X_train, label_binarize(y_train, classes=range(n_classes)))\n",
    "        \n",
    "        # Verificar se o classificador tem o método decision_function; se não, usar predict_proba\n",
    "        if hasattr(classifier, \"decision_function\"):\n",
    "            y_score = classifier.decision_function(X_test)\n",
    "        else:\n",
    "            y_score = classifier.predict_proba(X_test)\n",
    "        \n",
    "        # Plotar a curva ROC para cada classe\n",
    "        fpr = dict()\n",
    "        tpr = dict()\n",
    "        roc_auc = dict()\n",
    "        \n",
    "        for i in range(n_classes):\n",
    "            fpr[i], tpr[i], _ = roc_curve(y_test_binarized[:, i], y_score[:, i])\n",
    "            roc_auc[i] = auc(fpr[i], tpr[i])\n",
    "        \n",
    "        colors = cycle(['aqua', 'darkorange', 'cornflowerblue'])\n",
    "        \n",
    "        for i, color in zip(range(n_classes), colors):\n",
    "            plt.plot(fpr[i], tpr[i], color=color, lw=2,\n",
    "                     label=f'Classe {i} vs Rest (AUC = {roc_auc[i]:0.2f})')\n",
    "    \n",
    "    # Adicionar detalhes ao gráfico\n",
    "    plt.plot([0, 1], [0, 1], 'k--')  # Linha diagonal para referência\n",
    "    plt.xlim([0.0, 1.0])\n",
    "    plt.ylim([0.0, 1.05])\n",
    "    plt.xlabel('Taxa de Falsos Positivos (False Positive Rate)')\n",
    "    plt.ylabel('Taxa de Verdadeiros Positivos (True Positive Rate)')\n",
    "    plt.title('Curva ROC Multiclasse - Comparação de Modelos')\n",
    "    plt.legend(loc=\"lower right\")\n",
    "    plt.show()\n",
    "\n",
    "# Lista de modelos a serem testados\n",
    "models = [\n",
    "    (log_reg, \"Logistic Regression\"),\n",
    "    (decision_tree, \"Decision Tree\"),\n",
    "    (random_forest, \"Random Forest\"),\n",
    "    (xgboost, \"XGBoost\"),\n",
    "    (lightgbm, \"LightGBM\"),\n",
    "    (gradient_boosting, \"Gradient Boosting\"),\n",
    "    (best_model, \"Optimized Random Forest\")\n",
    "]\n",
    "\n",
    "# Número de classes no seu problema (ganhou, perdeu, empatou)\n",
    "n_classes = len(y.unique())\n",
    "\n",
    "# Chamar a função para plotar a curva ROC Multiclasse\n",
    "plot_roc_curve_multiclass(models, X_test, y_test, n_classes)\n"
   ]
  },
  {
   "cell_type": "markdown",
   "metadata": {},
   "source": [
    "### 5.4. Explicação da Curva ROC e AUC\n",
    "\n",
    "A curva ROC mostra a sensibilidade (recall) versus a taxa de falsos positivos, enquanto a AUC (Área Sob a Curva) fornece uma medida resumida da performance do classificador. Uma curva ROC que se aproxima mais do canto superior esquerdo do gráfico indica um classificador com um desempenho melhor.\n",
    "\n",
    "- Curva ROC: Quanto mais alta e à esquerda a curva estiver no gráfico, melhor é o desempenho do modelo. Isso indica que o modelo é capaz de distinguir corretamente entre as classes, com uma taxa de falsos positivos menor para um determinado nível de taxa de verdadeiros positivos.\n",
    "\n",
    "- AUC: Um valor de AUC mais alto significa que o modelo tem um desempenho melhor na classificação de ambas as classes (no caso, o time vencedor ou não vencedor). Modelos com AUC próximas a 1 indicam um excelente desempenho. Um AUC de 0.5 significa que o modelo está se comportando como um classificador aleatório.\n",
    "\n",
    "Exemplo de Interpretação:\n",
    "Se o Random Forest tiver a maior AUC e a curva ROC estiver mais próxima do canto superior esquerdo, isso indica que ele tem uma excelente capacidade de discriminar corretamente entre os times vencedores e perdedores, e provavelmente será a melhor escolha para este problema. Se a curva ROC de outro modelo estiver mais próxima da linha diagonal (falsos positivos e verdadeiros positivos crescem na mesma taxa), isso sugere que o modelo não está fazendo um bom trabalho em distinguir as classes.\n"
   ]
  },
  {
   "cell_type": "markdown",
   "metadata": {},
   "source": [
    "### 5.5. Explicação do Gráfico e Interpretação das Métricas\n"
   ]
  },
  {
   "cell_type": "markdown",
   "metadata": {},
   "source": [
    "A análise das métricas (acurácia, precisão, recall e F1-score), juntamente com a curva ROC e o valor de AUC, nos permite uma visão completa sobre a performance dos modelos. Podemos tirar as seguintes conclusões:\n",
    "\n",
    "- Modelos com alta acurácia e F1 Score são adequados para uma classificação geral precisa.\n",
    "- Modelos com alta precisão são úteis quando queremos minimizar previsões erradas de positivos (falsos positivos).\n",
    "- Modelos com alto recall são melhores quando a prioridade é identificar corretamente o maior número de positivos (minimizando falsos negativos).\n",
    "- Modelos com alta AUC têm uma excelente capacidade de distinguir corretamente entre as classes, sendo ideais para prever com precisão o vencedor das partidas.\n",
    "\n",
    "Essas métricas devem ser analisadas de acordo com o objetivo do problema. No caso de prever vencedores, a AUC e o F1 Score podem ser métricas-chave para avaliar o desempenho global dos modelos.\n"
   ]
  },
  {
   "cell_type": "markdown",
   "metadata": {},
   "source": [
    "### 5.6. Conclusões com Base nas Métricas\n",
    "\n",
    "A análise das métricas nos permite tirar conclusões claras sobre o desempenho de cada modelo. Podemos observar o seguinte:\n",
    "\n",
    "- Modelos com alta acurácia e F1 Score são adequados para uma classificação geral precisa.\n",
    "- Modelos com alta precisão são úteis quando queremos minimizar previsões erradas de positivos (falsos positivos).\n",
    "- Modelos com alto recall são melhores quando a prioridade é identificar corretamente o maior número de positivos (minimizando falsos negativos).\n",
    "\n",
    "Essas métricas devem ser analisadas de acordo com o objetivo do problema. Por exemplo, em um cenário onde é mais importante prever corretamente o time vencedor em partidas equilibradas, poderíamos dar mais peso ao F1 Score. Em outros cenários, onde é importante evitar erros ao prever um vencedor forte, a precisão pode ser priorizada.\n"
   ]
  },
  {
   "cell_type": "markdown",
   "metadata": {},
   "source": [
    "## 6. Explicabilidade com LIME\n",
    "\n",
    "Nesta seção, a explicabilidade do modelo é realizada utilizando a técnica LIME (Local Interpretable Model-Agnostic Explanations). O objetivo do LIME é fornecer uma explicação interpretável para uma previsão específica feita pelo modelo. Isso é especialmente útil para entender quais características (features) foram mais influentes para uma determinada previsão, explicando decisões tomadas por modelos de machine learning de maneira clara e compreensível.\n",
    "\n",
    "### 6.1. Criação do Explicador LIME\n",
    "\n",
    "Descrição: O LimeTabularExplainer é inicializado com os dados de treinamento, os nomes das colunas (características), o nome da classe que o modelo está prevendo (winner), e o tipo de problema que estamos lidando (classificação). A função do LIME é criar um modelo explicável e local para cada instância selecionada.\n",
    "\n",
    "Resultado: Um explicador LIME que pode ser usado para gerar explicações locais das previsões feitas pelo modelo.\n"
   ]
  },
  {
   "cell_type": "code",
   "execution_count": 14,
   "metadata": {},
   "outputs": [],
   "source": [
    "from lime.lime_tabular import LimeTabularExplainer\n",
    "\n",
    "explainer = LimeTabularExplainer(\n",
    "    training_data=X_train.values,  # Dados de treinamento\n",
    "    feature_names=X_train.columns,  # Nomes das características\n",
    "    class_names='winner',  # Nome da classe de saída (previsão de vencedor)\n",
    "    mode='classification'  # Tipo de problema: classificação\n",
    ")"
   ]
  },
  {
   "cell_type": "markdown",
   "metadata": {},
   "source": [
    "### 6.2. Seleção de uma Instância para Explicação\n",
    "\n",
    "Descrição: A primeira instância do conjunto de teste é selecionada para explicação. O método iloc[0] seleciona a primeira linha do conjunto de teste, e o .values converte essa linha para um array de valores numéricos, que será a entrada para o explicador.\n",
    "\n",
    "Resultado: A variável instancia_explicar contém a instância escolhida para ser explicada pelo LIME.\n"
   ]
  },
  {
   "cell_type": "code",
   "execution_count": 15,
   "metadata": {},
   "outputs": [],
   "source": [
    "instancia_explicar = X_test.iloc[0].values  # Seleciona a primeira instância do conjunto de teste"
   ]
  },
  {
   "cell_type": "markdown",
   "metadata": {},
   "source": [
    "### 6.3. Geração da Explicação para a Previsão\n",
    "\n",
    "Descrição: A função explain_instance() gera a explicação para a previsão feita sobre a instância selecionada. Utilizamos a função de previsão do modelo (predict_proba), que retorna as probabilidades para cada classe.\n",
    "\n",
    "Resultado: A variável explicacao armazena a explicação detalhada sobre as características que mais influenciaram a previsão para essa instância específica.\n"
   ]
  },
  {
   "cell_type": "code",
   "execution_count": null,
   "metadata": {},
   "outputs": [],
   "source": [
    "explicacao = explainer.explain_instance(\n",
    "    data_row=instancia_explicar,  # Instância a ser explicada\n",
    "    predict_fn=random_forest.predict_proba  # Função de previsão do modelo\n",
    ")"
   ]
  },
  {
   "cell_type": "markdown",
   "metadata": {},
   "source": [
    "### 6.4. Mostrar a Explicação no Jupyter Notebook\n",
    "\n",
    "Descrição: A explicação gerada pode ser visualizada diretamente no notebook em formato gráfico. Este gráfico ajuda a entender quais características tiveram o maior impacto na previsão e em qual direção (positiva ou negativa).\n",
    "\n",
    "Resultado: A explicação é exibida diretamente no notebook, facilitando a visualização dos fatores mais importantes para a previsão.\n"
   ]
  },
  {
   "cell_type": "code",
   "execution_count": null,
   "metadata": {},
   "outputs": [],
   "source": [
    "explicacao.show_in_notebook(show_all=False)"
   ]
  },
  {
   "cell_type": "markdown",
   "metadata": {},
   "source": [
    "### 6.5. Exibir a Explicação em Gráfico de Barras\n",
    "\n",
    "Descrição: Também é possível visualizar a explicação em um gráfico de barras, utilizando a função as_pyplot_figure(). Este gráfico mostra visualmente a contribuição de cada característica para a previsão.\n",
    "\n",
    "Resultado: Um gráfico de barras exibindo a contribuição das principais características na previsão da instância é gerado e mostrado no terminal.\n"
   ]
  },
  {
   "cell_type": "code",
   "execution_count": null,
   "metadata": {},
   "outputs": [],
   "source": [
    "fig = explicacao.as_pyplot_figure()  # Gera um gráfico de barras\n",
    "plt.show()  # Exibe o gráfico no terminal"
   ]
  },
  {
   "cell_type": "markdown",
   "metadata": {},
   "source": [
    "### 6.6. Imprimir a Explicação em Formato de Lista\n",
    "\n",
    "Descrição: Para exibir as contribuições das características de forma mais direta, o método as_list() imprime uma lista detalhando cada característica e sua respectiva contribuição para a previsão.\n",
    "\n",
    "Resultado: A lista das características mais importantes com suas contribuições específicas para a previsão é impressa no console.\n"
   ]
  },
  {
   "cell_type": "code",
   "execution_count": null,
   "metadata": {},
   "outputs": [],
   "source": [
    "print(explicacao.as_list())  # Exibe a explicação em formato de lista"
   ]
  },
  {
   "cell_type": "markdown",
   "metadata": {},
   "source": [
    "# Modelo de Placar\n",
    "\n",
    "Nesta seção, iremos treinar três modelos de regressão para prever o número de gols dos times (casa e visitante) em partidas de futebol. Utilizaremos os modelos de Linear Regression, Random Forest e XGBoost. Cada modelo será treinado, otimizado e avaliado usando métricas como RMSE, MSE, MAE e R². Seguiremos a mesma estrutura para todos os modelos para facilitar a comparação.\n",
    "\n",
    "O fluxo será dividido em:\n",
    "\n",
    "1. Carregamento e pré-processamento dos dados: Criação das features, normalização e divisão em treino e teste.\n",
    "2. Treinamento de múltiplos modelos: Utilização de Regressão Linear, Random Forest, e XGBoost.\n",
    "3. Avaliação dos modelos: Comparação das principais métricas para determinar o mais eficiente.\n",
    "4. Importância das Features: Visualização das variáveis mais importantes em cada modelo.\n",
    "5. Otimização de hiperparâmetros para melhorar o desempenho do modelo de Random Forest.\n",
    "6. Explicabilidade com LIME para entender as principais features que influenciam as previsões.\n",
    "7. Comparação de desempenho entre Linear Regression, Random Forest, e XGBoost para determinar o modelo mais eficiente.\n"
   ]
  },
  {
   "cell_type": "markdown",
   "metadata": {},
   "source": [
    "## 1. Função de Avaliação\n",
    "\n",
    "Criaremos uma função evaluate_model para treinar e avaliar cada modelo. Essa função utiliza o conjunto de treino para ajustar o modelo e, em seguida, faz previsões no conjunto de teste. O desempenho é medido com métricas como MSE, RMSE, MAE e R².\n"
   ]
  },
  {
   "cell_type": "code",
   "execution_count": 13,
   "metadata": {},
   "outputs": [],
   "source": [
    "from sklearn.metrics import mean_squared_error, mean_absolute_error, r2_score\n",
    "\n",
    "# Função para treinar, prever e exibir o relatório de métricas de desempenho\n",
    "def evaluate_model(model, model_name, X_train, X_test, y_train, y_test):\n",
    "    model.fit(X_train, y_train)\n",
    "    y_pred = model.predict(X_test)\n",
    "    \n",
    "    # Calculando métricas\n",
    "    mse = mean_squared_error(y_test, y_pred)\n",
    "    rmse = np.sqrt(mse)\n",
    "    mae = mean_absolute_error(y_test, y_pred)\n",
    "    r2 = r2_score(y_test, y_pred)\n",
    "    \n",
    "    # Exibindo resultados\n",
    "    print(f'\\nModel: {model_name}')\n",
    "    print(f'MSE: {mse}')\n",
    "    print(f'RMSE: {rmse}')\n",
    "    print(f'MAE: {mae}')\n",
    "    print(f'R²: {r2}')\n",
    "    \n",
    "    return y_pred\n"
   ]
  },
  {
   "cell_type": "markdown",
   "metadata": {},
   "source": [
    "## 2. Modelos de Regressão\n"
   ]
  },
  {
   "cell_type": "markdown",
   "metadata": {},
   "source": [
    "### 2.1. Regressão Linear\n",
    "\n",
    "Descrição:\n",
    "\n",
    "Na regressão linear, estamos utilizando um conjunto de features relacionadas ao desempenho de cada equipe (como posse de bola e chutes no alvo). Este modelo ajusta uma relação linear entre as features e o número de gols marcados.\n",
    "\n",
    "Fluxo do Código:\n",
    "\n",
    "1. Carregamento e pré-processamento: Criação de novas colunas e normalização dos dados.\n",
    "2. Treinamento: Ajuste do modelo de regressão linear no conjunto de treino.\n",
    "3. Avaliação: O modelo será avaliado com a função evaluate_model.\n"
   ]
  },
  {
   "cell_type": "code",
   "execution_count": null,
   "metadata": {},
   "outputs": [],
   "source": [
    "from sklearn import linear_model\n",
    "from sklearn.preprocessing import StandardScaler\n",
    "from sklearn.model_selection import train_test_split\n",
    "import numpy as np\n",
    "\n",
    "# Criação de novas colunas para porcentagens\n",
    "df['(home)_shots_on_target_percentage'] = df['(home)_shots_on_target'] / df['(home)_shots']\n",
    "df['(away)_shots_on_target_percentage'] = df['(away)_shots_on_target'] / df['(away)_shots']\n",
    "\n",
    "# Definir a variável alvo (número de gols do time da casa)\n",
    "y_A = df['home_team_goal_count']\n",
    "\n",
    "# Features para o modelo de regressão linear\n",
    "features_A = ['(home)_points_per_game_home', '(away)_points_per_game_away', \n",
    "              '(home)_average_possession', '(away)_average_possession', \n",
    "              '(home)_shots_on_target_percentage', '(away)_shots_on_target_percentage']\n",
    "X_A = df[features_A]\n",
    "\n",
    "# Normalizar as features\n",
    "scaler = StandardScaler()\n",
    "X_A = scaler.fit_transform(X_A)\n",
    "\n",
    "# Separar em treino e teste\n",
    "X_train_A, X_test_A, y_train_A, y_test_A = train_test_split(X_A, y_A, test_size=0.2, random_state=30)\n",
    "\n",
    "# Treinamento e avaliação do modelo de Regressão Linear\n",
    "modelo_A = linear_model.LinearRegression()\n",
    "evaluate_model(modelo_A, \"Linear Regression (Time da Casa)\", X_train_A, X_test_A, y_train_A, y_test_A)"
   ]
  },
  {
   "cell_type": "markdown",
   "metadata": {},
   "source": [
    "### 2.2. Random Forest Regressor\n",
    "\n",
    "Descrição:\n",
    "\n",
    "O Random Forest Regressor utiliza uma abordagem de ensemble com múltiplas árvores de decisão para melhorar a precisão das previsões. Este modelo também é útil para identificar quais variáveis são mais importantes para prever o número de gols.\n",
    "\n",
    "Fluxo do Código:\n",
    "\n",
    "1. Carregamento e pré-processamento: Similar à regressão linear.\n",
    "2. Treinamento: Treinamos o modelo com o RandomForestRegressor.\n",
    "3. Avaliação: Avaliamos o desempenho com a função evaluate_model.\n",
    "4. Importância das Features: Visualização das features mais importantes.\n"
   ]
  },
  {
   "cell_type": "code",
   "execution_count": null,
   "metadata": {},
   "outputs": [],
   "source": [
    "from sklearn.ensemble import RandomForestRegressor\n",
    "import matplotlib.pyplot as plt\n",
    "\n",
    "# Definir a variável alvo (gols do time da casa)\n",
    "y_A = df['home_team_goal_count']\n",
    "\n",
    "# Definir as features\n",
    "features_A = ['(home)_minutes_per_goal_scored_home', '(away)_goals_conceded_per_match_away', \n",
    "              '(home)_average_possession_home', '(home)_shots_on_target_percentage', \n",
    "              '(home)_average_total_goals_per_match_home']\n",
    "\n",
    "X_A = df[features_A]\n",
    "\n",
    "# Normalizar as features\n",
    "X_A = scaler.fit_transform(X_A)\n",
    "\n",
    "# Separar em treino e teste\n",
    "X_train_A, X_test_A, y_train_A, y_test_A = train_test_split(X_A, y_A, test_size=0.3, random_state=42)\n",
    "\n",
    "# Treinamento e avaliação do modelo de Random Forest\n",
    "modelo_A = RandomForestRegressor(n_estimators=600, max_depth=15, random_state=42)\n",
    "evaluate_model(modelo_A, \"Random Forest (Time da Casa)\", X_train_A, X_test_A, y_train_A, y_test_A)\n",
    "\n",
    "# Visualizar a importância das features\n",
    "importances_A = modelo_A.feature_importances_\n",
    "feature_importance_df = pd.DataFrame({\n",
    "    'Feature': features_A,\n",
    "    'Importance': importances_A\n",
    "}).sort_values(by='Importance', ascending=False)\n",
    "print(feature_importance_df)\n",
    "\n",
    "# Plotando a importância das features\n",
    "plt.figure(figsize=(10, 6))\n",
    "plt.barh(feature_importance_df['Feature'], feature_importance_df['Importance'])\n",
    "plt.xlabel('Importância')\n",
    "plt.ylabel('Features')\n",
    "plt.title('Importância das Features - Random Forest')\n",
    "plt.gca().invert_yaxis()\n",
    "plt.show()"
   ]
  },
  {
   "cell_type": "markdown",
   "metadata": {},
   "source": [
    "### 2.3. XGBoost Regressor\n",
    "\n",
    "Descrição:\n",
    "\n",
    "O XGBoost é um algoritmo baseado em árvores de decisão que utiliza uma técnica de boosting para melhorar progressivamente suas previsões, corrigindo erros das iterações anteriores. Ele é conhecido por ser eficiente e robusto.\n",
    "\n",
    "Fluxo do Código:\n",
    "\n",
    "1. Carregamento e pré-processamento: Similar ao Random Forest.\n",
    "2. Treinamento: O modelo de XGBoost Regressor é treinado.\n",
    "3. Avaliação: Utilização da função evaluate_model para medir o desempenho.\n",
    "4. Importância das Features: Visualização das variáveis mais importantes.\n"
   ]
  },
  {
   "cell_type": "code",
   "execution_count": null,
   "metadata": {},
   "outputs": [],
   "source": [
    "import xgboost as xgb\n",
    "\n",
    "# Definir a variável alvo (gols do time da casa)\n",
    "y_A = df['home_team_goal_count']\n",
    "\n",
    "# Definir as features\n",
    "features_A = ['(home)_points_per_game_home', '(away)_points_per_game_away', \n",
    "              '(home)_average_total_goals_per_match', '(away)_average_total_goals_per_match']\n",
    "X_A = df[features_A]\n",
    "\n",
    "# Normalizar as features\n",
    "X_A = scaler.fit_transform(X_A)\n",
    "\n",
    "# Separar em treino e teste\n",
    "X_train_A, X_test_A, y_train_A, y_test_A = train_test_split(X_A, y_A, test_size=0.2, random_state=42)\n",
    "\n",
    "# Treinamento e avaliação do modelo XGBoost\n",
    "gbr_A = xgb.XGBRegressor(n_estimators=200, learning_rate=0.1, max_depth=3, random_state=42)\n",
    "evaluate_model(gbr_A, \"XGBoost (Time da Casa)\", X_train_A, X_test_A, y_train_A, y_test_A)\n",
    "\n",
    "# Visualização da importância das features\n",
    "importances_A = gbr_A.feature_importances_\n",
    "feature_importance_df = pd.DataFrame({\n",
    "    'Feature': features_A,\n",
    "    'Importance': importances_A\n",
    "}).sort_values(by='Importance', ascending=False)\n",
    "print(feature_importance_df)\n",
    "\n",
    "# Plotando a importância das features\n",
    "plt.figure(figsize=(10, 6))\n",
    "plt.barh(feature_importance_df['Feature'], feature_importance_df['Importance'])\n",
    "plt.xlabel('Importância')\n",
    "plt.ylabel('Features')\n",
    "plt.title('Importância das Features - XGBoost')\n",
    "plt.gca().invert_yaxis()\n",
    "plt.show()"
   ]
  },
  {
   "cell_type": "markdown",
   "metadata": {},
   "source": [
    "## 3. Comparação de Desempenho entre Modelos\n",
    "\n",
    "Descrição:\n",
    "\n",
    "Aqui, coletamos as principais métricas de desempenho (RMSE, MAE e R²) para os três modelos: Linear Regression, Random Forest, e XGBoost. Os resultados são comparados para determinar o melhor modelo.\n",
    "\n",
    "Fluxo do Código:\n",
    "\n",
    "1. Avaliação: Avaliação dos modelos com a função evaluate_model.\n",
    "2. Coleta de métricas: Coletamos as métricas de cada modelo em um DataFrame.\n",
    "3. Visualização gráfica: Plotamos as métricas de desempenho para comparação.\n"
   ]
  },
  {
   "cell_type": "code",
   "execution_count": null,
   "metadata": {},
   "outputs": [],
   "source": [
    "import pandas as pd\n",
    "import seaborn as sns\n",
    "import matplotlib.pyplot as plt\n",
    "from sklearn.model_selection import GridSearch\n",
    "\n",
    "# Coletar métricas de desempenho dos modelos\n",
    "metrics = []\n",
    "\n",
    "# Linear Regression\n",
    "modelo_A = linear_model.LinearRegression()\n",
    "y_pred_lr = evaluate_model(modelo_A, \"Linear Regression (Time da Casa)\", X_train_A, X_test_A, y_train_A, y_test_A)\n",
    "metrics.append({'Model': 'Linear Regression', 'RMSE': np.sqrt(mean_squared_error(y_test_A, y_pred_lr)),\n",
    "                'MAE': mean_absolute_error(y_test_A, y_pred_lr), 'R²': r2_score(y_test_A, y_pred_lr)})\n",
    "\n",
    "# Random Forest\n",
    "best_model_A = grid_search.best_estimator_\n",
    "y_pred_rf = evaluate_model(best_model_A, \"Optimized Random Forest (Time da Casa)\", X_train_A, X_test_A, y_train_A, y_test_A)\n",
    "metrics.append({'Model': 'Random Forest', 'RMSE': np.sqrt(mean_squared_error(y_test_A, y_pred_rf)),\n",
    "                'MAE': mean_absolute_error(y_test_A, y_pred_rf), 'R²': r2_score(y_test_A, y_pred_rf)})\n",
    "\n",
    "# XGBoost\n",
    "gbr_A = xgb.XGBRegressor(n_estimators=200, learning_rate=0.1, max_depth=3, random_state=42)\n",
    "y_pred_xgb = evaluate_model(gbr_A, \"XGBoost (Time da Casa)\", X_train_A, X_test_A, y_train_A, y_test_A)\n",
    "metrics.append({'Model': 'XGBoost', 'RMSE': np.sqrt(mean_squared_error(y_test_A, y_pred_xgb)),\n",
    "                'MAE': mean_absolute_error(y_test_A, y_pred_xgb), 'R²': r2_score(y_test_A, y_pred_xgb)})\n",
    "\n",
    "# Criar um DataFrame com as métricas\n",
    "metrics_df = pd.DataFrame(metrics)\n",
    "\n",
    "# Visualização gráfica\n",
    "plt.figure(figsize=(10, 6))\n",
    "sns.barplot(x='Model', y='RMSE', data=metrics_df)\n",
    "plt.title('Comparação de RMSE entre os Modelos')\n",
    "plt.show()\n",
    "\n",
    "plt.figure(figsize=(10, 6))\n",
    "sns.barplot(x='Model', y='R²', data=metrics_df)\n",
    "plt.title('Comparação de R² entre os Modelos')\n",
    "plt.show()\n"
   ]
  },
  {
   "cell_type": "markdown",
   "metadata": {},
   "source": [
    "## 4. Otimização de Hiperparâmetros\n",
    "\n",
    "Descrição:\n",
    "\n",
    "A otimização de hiperparâmetros é uma etapa fundamental para melhorar o desempenho do modelo. Utilizamos o GridSearchCV para buscar a melhor combinação de parâmetros para o modelo de Random Forest, com foco em melhorar o RMSE e R².\n",
    "\n",
    "Fluxo do Código:\n",
    "\n",
    "1. Carregamento e pré-processamento: Preparação das features e alvo.\n",
    "2. GridSearchCV: Busca pelos melhores hiperparâmetros.\n",
    "3. Avaliação: Avaliamos o modelo otimizado.\n"
   ]
  },
  {
   "cell_type": "markdown",
   "metadata": {},
   "source": [
    "### Random Forest Regressor"
   ]
  },
  {
   "cell_type": "code",
   "execution_count": null,
   "metadata": {},
   "outputs": [],
   "source": [
    "from sklearn.model_selection import GridSearchCV\n",
    "from sklearn.ensemble import RandomForestRegressor\n",
    "\n",
    "# Definir a variável alvo (gols do time da casa)\n",
    "y_A = df['home_team_goal_count']\n",
    "\n",
    "# Definir as features\n",
    "features_A = ['(home)_minutes_per_goal_scored_home', '(away)_goals_conceded_per_match_away', \n",
    "              '(home)_average_possession_home', '(home)_shots_on_target_percentage', \n",
    "              '(home)_average_total_goals_per_match_home']\n",
    "\n",
    "X_A = df[features_A]\n",
    "\n",
    "# Normalizar as features\n",
    "scaler = StandardScaler()\n",
    "X_A = scaler.fit_transform(X_A)\n",
    "\n",
    "# Separar em treino e teste\n",
    "X_train_A, X_test_A, y_train_A, y_test_A = train_test_split(X_A, y_A, test_size=0.3, random_state=42)\n",
    "\n",
    "# Definindo a grade de hiperparâmetros\n",
    "param_grid = {\n",
    "    'n_estimators': [100, 200, 600],\n",
    "    'max_depth': [10, 15, 20],\n",
    "    'min_samples_split': [2, 5, 10],\n",
    "    'min_samples_leaf': [1, 2, 4]\n",
    "}\n",
    "\n",
    "# Aplicar o GridSearchCV para otimização\n",
    "grid_search = GridSearchCV(estimator=RandomForestRegressor(random_state=42), param_grid=param_grid, cv=5, n_jobs=-1, verbose=2)\n",
    "grid_search.fit(X_train_A, y_train_A)\n",
    "\n",
    "# Exibindo os melhores hiperparâmetros\n",
    "print(\"Melhores hiperparâmetros encontrados:\", grid_search.best_params_)\n",
    "\n",
    "# Avaliando o modelo otimizado\n",
    "best_model_A = grid_search.best_estimator_\n",
    "evaluate_model(best_model_A, \"Optimized Random Forest (Time da Casa)\", X_train_A, X_test_A, y_train_A, y_test_A)\n"
   ]
  },
  {
   "cell_type": "markdown",
   "metadata": {},
   "source": [
    "### XGBoost Regressor"
   ]
  },
  {
   "cell_type": "code",
   "execution_count": null,
   "metadata": {},
   "outputs": [],
   "source": [
    "from sklearn.model_selection import GridSearchCV\n",
    "import xgboost as xgb\n",
    "\n",
    "# Definir a grade de hiperparâmetros para XGBoost\n",
    "param_grid = {\n",
    "    'n_estimators': [100, 200, 500],\n",
    "    'max_depth': [3, 6, 10],\n",
    "    'learning_rate': [0.01, 0.1, 0.2],\n",
    "    'subsample': [0.8, 1.0],\n",
    "    'colsample_bytree': [0.8, 1.0]\n",
    "}\n",
    "\n",
    "# Instanciar o modelo XGBoost\n",
    "xgb_model = xgb.XGBRegressor(random_state=42)\n",
    "\n",
    "# Aplicar o GridSearchCV para otimização\n",
    "grid_search = GridSearchCV(estimator=xgb_model, param_grid=param_grid, cv=5, n_jobs=-1, verbose=2)\n",
    "grid_search.fit(X_train_A, y_train_A)\n",
    "\n",
    "# Exibindo os melhores hiperparâmetros\n",
    "print(\"Melhores hiperparâmetros encontrados:\", grid_search.best_params_)\n",
    "\n",
    "# Avaliando o modelo otimizado\n",
    "best_model_A = grid_search.best_estimator_\n",
    "y_pred_A = best_model_A.predict(X_test_A)\n",
    "\n",
    "# Avaliação das previsões\n",
    "from sklearn.metrics import mean_squared_error, r2_score\n",
    "mse = mean_squared_error(y_test_A, y_pred_A)\n",
    "r2 = r2_score(y_test_A, y_pred_A)\n",
    "\n",
    "print(f\"Erro quadrático médio (MSE): {mse}\")\n",
    "print(f\"Coeficiente de determinação (R²): {r2}\")"
   ]
  },
  {
   "cell_type": "markdown",
   "metadata": {},
   "source": [
    "### Regressão Linear"
   ]
  },
  {
   "cell_type": "code",
   "execution_count": null,
   "metadata": {},
   "outputs": [],
   "source": [
    "from sklearn.model_selection import GridSearchCV\n",
    "from sklearn.linear_model import LinearRegression\n",
    "\n",
    "# Definindo a grade de hiperparâmetros para a Regressão Linear\n",
    "param_grid = {\n",
    "    'fit_intercept': [True, False],\n",
    "    'positive': [True, False]\n",
    "}\n",
    "\n",
    "# Instanciar o modelo de Regressão Linear\n",
    "linear_model_A = LinearRegression()\n",
    "\n",
    "# Aplicar o GridSearchCV para otimização\n",
    "grid_search = GridSearchCV(estimator=linear_model_A, param_grid=param_grid, cv=5, n_jobs=-1, verbose=2)\n",
    "grid_search.fit(X_train_A, y_train_A)\n",
    "\n",
    "# Exibindo os melhores hiperparâmetros\n",
    "print(\"Melhores hiperparâmetros encontrados:\", grid_search.best_params_)\n",
    "\n",
    "# Avaliando o modelo otimizado\n",
    "best_model_A = grid_search.best_estimator_\n",
    "y_pred_A = best_model_A.predict(X_test_A)"
   ]
  },
  {
   "cell_type": "markdown",
   "metadata": {},
   "source": [
    "## 5. Explicabilidade com LIME\n",
    "\n",
    "Descrição:\n",
    "\n",
    "Utilizamos o LIME para entender quais características são mais importantes nas previsões feitas pelos modelos. O LIME permite que possamos visualizar a importância de cada feature para uma instância específica.\n",
    "\n",
    "Passo a Passo do Código:\n",
    "\n",
    "1. Criação do explicador LIME: Inicializamos o LimeTabularExplainer com os dados de treino.\n",
    "2. Seleção de uma instância para explicação: Selecionamos uma linha do conjunto de teste.\n",
    "3. Geração da explicação: Usamos a função de previsão predict_proba para gerar a explicação.\n",
    "4. Visualização das explicações: Mostramos a explicação em formato gráfico e lista.\n"
   ]
  },
  {
   "cell_type": "code",
   "execution_count": null,
   "metadata": {},
   "outputs": [],
   "source": [
    "from lime.lime_tabular import LimeTabularExplainer\n",
    "\n",
    "# Criar o explicador LIME\n",
    "explainer = LimeTabularExplainer(\n",
    "    training_data=X_train_A,  # Passar os dados de treinamento\n",
    "    feature_names=features_A,  # Nome das colunas\n",
    "    mode='regression'  # Especificar que o modelo é de regressão\n",
    ")\n",
    "\n",
    "# Escolher uma instância do conjunto de teste para explicar\n",
    "instancia_explicar = X_test_A[0].reshape(1, -1)  # Primeira instância do conjunto de teste\n",
    "\n",
    "# Gerar a explicação para a previsão da instância selecionada\n",
    "explicacao = explainer.explain_instance(\n",
    "    data_row=X_test_A[0],  # A linha que queremos explicar\n",
    "    predict_fn=best_model_A.predict  # A função de previsão do modelo\n",
    ")\n",
    "\n",
    "# 1. Mostrar a explicação em forma de gráfico no notebook (para Jupyter)\n",
    "explicacao.show_in_notebook(show_all=False)\n",
    "\n",
    "# 2. Exibir a explicação em forma de gráfico de barras no terminal\n",
    "fig = explicacao.as_pyplot_figure()  # Exibe a contribuição das características para a previsão\n",
    "plt.show()\n",
    "\n",
    "# 3. Imprimir a explicação das características como lista\n",
    "print(explicacao.as_list())  # Exibe a contribuição das características para a previsão"
   ]
  },
  {
   "cell_type": "markdown",
   "metadata": {},
   "source": [
    "## 6. Conclusão Comparativa\n",
    "\n",
    "Com base na análise, os modelos de Random Forest e XGBoost mostraram um desempenho superior em relação à Linear Regression. A otimização dos hiperparâmetros melhorou consideravelmente o Random Forest, tornando-o uma opção robusta para a previsão de gols. Entretanto, o XGBoost teve um equilíbrio ideal entre RMSE e R², sendo considerado o modelo mais eficaz para este conjunto de dados.\n"
   ]
  },
  {
   "cell_type": "markdown",
   "metadata": {},
   "source": [
    "# Modelo de Primeiro Jogador a Marcar\n",
    "\n",
    "Nesta seção, iremos treinar três modelos de classificação para prever qual time (casa ou visitante) marcará o primeiro gol em partidas de futebol. Utilizaremos os modelos de Logistic Regression, Random Forest, e Gradient Boosting (XGBoost). Cada modelo será treinado, otimizado e avaliado usando métricas como accuracy, F1-Score, precision, e recall. Seguiremos a mesma estrutura para todos os modelos para facilitar a comparação e identificar qual abordagem oferece o melhor desempenho.\n",
    "\n",
    "O fluxo será dividido em:\n",
    "\n",
    "1. Carregamento e pré-processamento dos dados: Criação das features, normalização e divisão em treino e teste.\n",
    "2. Treinamento de múltiplos modelos: Utilização de Logistic Regression, Random Forest, e Gradient Boosting (XGBoost).\n",
    "3. Avaliação dos modelos: Comparação das principais métricas (como accuracy, F1-Score, precision, e recall) para determinar o mais eficiente.\n",
    "4. Importância das Features: Visualização das variáveis mais importantes em cada modelo.\n",
    "5. Otimização de hiperparâmetros para melhorar o desempenho do modelo de Random Forest.\n",
    "6. Explicabilidade com LIME para entender as principais features que influenciam as previsões.\n",
    "7. Comparação de desempenho entre Logistic Regression, Random Forest, e Gradient Boosting para determinar o modelo mais eficiente.\n"
   ]
  },
  {
   "cell_type": "markdown",
   "metadata": {},
   "source": [
    "## 1. Carregamento e Pré-processamento dos Dados\n",
    "\n",
    "Descrição:\n",
    "\n",
    "Nesta etapa, realizamos o carregamento dos dados brutos e aplicamos as transformações necessárias para preparar os dados para os modelos de machine learning. Isso inclui a criação de novas features (se necessário), a codificação de variáveis categóricas, a normalização dos dados numéricos, e a divisão dos dados em conjuntos de treino e teste, garantindo que o modelo possa ser treinado e avaliado de forma eficaz.\n",
    "\n",
    "Fluxo do Código:\n",
    "\n",
    "1. Carregamento dos Dados: Importação do dataset e visualização inicial.\n",
    "2. Criação e Transformação de Features: Aplicação de técnicas como One-Hot Encoding para variáveis categóricas e criação de novas features relevantes.\n",
    "3. Normalização: Normalização dos dados numéricos usando StandardScaler.\n",
    "4. Divisão em Conjuntos de Treino e Teste: Separação dos dados em conjuntos de treino e teste com uma proporção adequada (por exemplo, 80% para treino e 20% para teste)."
   ]
  },
  {
   "cell_type": "code",
   "execution_count": 2,
   "metadata": {},
   "outputs": [],
   "source": [
    "import pandas as pd\n",
    "from sklearn.model_selection import train_test_split\n",
    "from sklearn.preprocessing import StandardScaler\n",
    "\n",
    "# Carregar os dados\n",
    "df = pd.read_csv('players_score.csv')\n",
    "\n",
    "# Identificar colunas categóricas\n",
    "categorical_columns = df.select_dtypes(include=['object']).columns\n",
    "\n",
    "# Aplicar One-Hot Encoding nas colunas categóricas\n",
    "df_encoded = pd.get_dummies(df, columns=categorical_columns, drop_first=True)\n",
    "\n",
    "# Separar as features (X) e o alvo (y)\n",
    "X = df_encoded.drop(columns=['first_goal'])\n",
    "y = df_encoded['first_goal']\n",
    "\n",
    "# Dividir os dados em treino e teste\n",
    "X_train, X_test, y_train, y_test = train_test_split(X, y, test_size=0.2, random_state=42)\n",
    "\n",
    "# Normalizar os dados\n",
    "scaler = StandardScaler()\n",
    "X_train_scaled = scaler.fit_transform(X_train)\n",
    "X_test_scaled = scaler.transform(X_test)\n",
    "    \n"
   ]
  },
  {
   "cell_type": "markdown",
   "metadata": {},
   "source": [
    "## 2. Treinamento de Múltiplos Modelos\n",
    "\n",
    "Nesta etapa, iremos treinar três modelos de classificação: Logistic Regression, Random Forest, e Gradient Boosting. Cada modelo será treinado separadamente após o pré-processamento dos dados, e seu desempenho será avaliado usando métricas específicas para classificação, como accuracy e F1-Score.\n",
    "\n",
    "### 2.1 Logistic Regression\n",
    "\n",
    "Descrição:\n",
    "\n",
    "O modelo de Logistic Regression é um algoritmo linear utilizado para tarefas de classificação. Ele modela a probabilidade de um evento, como prever se o time marcará o primeiro gol, usando uma função logística para transformar as previsões em valores entre 0 e 1. Este modelo é eficiente, simples de interpretar e escalável."
   ]
  },
  {
   "cell_type": "code",
   "execution_count": 3,
   "metadata": {},
   "outputs": [
    {
     "name": "stdout",
     "output_type": "stream",
     "text": [
      "Acurácia do Logistic Regression: 1.0\n",
      "F1-Score do Logistic Regression: 1.0\n"
     ]
    }
   ],
   "source": [
    "from sklearn.linear_model import LogisticRegression\n",
    "from sklearn.metrics import accuracy_score, f1_score\n",
    "\n",
    "# Treinar o modelo Logistic Regression\n",
    "lr_model = LogisticRegression(max_iter=200, class_weight='balanced')\n",
    "lr_model.fit(X_train_scaled, y_train)\n",
    "\n",
    "# Avaliar o modelo\n",
    "y_pred_lr = lr_model.predict(X_test_scaled)\n",
    "accuracy_lr = accuracy_score(y_test, y_pred_lr)\n",
    "f1_lr = f1_score(y_test, y_pred_lr, average='weighted')\n",
    "\n",
    "print(f\"Acurácia do Logistic Regression: {accuracy_lr}\")\n",
    "print(f\"F1-Score do Logistic Regression: {f1_lr}\")"
   ]
  },
  {
   "cell_type": "markdown",
   "metadata": {},
   "source": [
    "### 2.2 Random Forest Classifier \n",
    "\n",
    "Descrição:\n",
    "\n",
    "O Random Forest Classifier é um modelo de ensemble que utiliza múltiplas árvores de decisão para melhorar a precisão e reduzir o overfitting. Ele cria diversas árvores de decisão, e o resultado final é uma média das previsões de todas as árvores, aumentando a robustez do modelo. Esse algoritmo também é útil para identificar as variáveis mais importantes para prever o time que marcará o primeiro gol."
   ]
  },
  {
   "cell_type": "code",
   "execution_count": 4,
   "metadata": {},
   "outputs": [
    {
     "name": "stdout",
     "output_type": "stream",
     "text": [
      "Acurácia do Random Forest: 1.0\n",
      "F1-Score do Random Forest: 1.0\n"
     ]
    }
   ],
   "source": [
    "from sklearn.ensemble import RandomForestClassifier\n",
    "\n",
    "# Treinar o modelo Random Forest\n",
    "rf_model = RandomForestClassifier(n_estimators=100, random_state=42, class_weight='balanced')\n",
    "rf_model.fit(X_train_scaled, y_train)\n",
    "\n",
    "# Avaliar o modelo\n",
    "y_pred_rf = rf_model.predict(X_test_scaled)\n",
    "accuracy_rf = accuracy_score(y_test, y_pred_rf)\n",
    "f1_rf = f1_score(y_test, y_pred_rf, average='weighted')\n",
    "\n",
    "print(f\"Acurácia do Random Forest: {accuracy_rf}\")\n",
    "print(f\"F1-Score do Random Forest: {f1_rf}\")"
   ]
  },
  {
   "cell_type": "markdown",
   "metadata": {},
   "source": [
    "### 2.3 Gradient Boosting (XGBoost) \n",
    "\n",
    "Descrição:\n",
    "\n",
    "O Gradient Boosting Classifier (usando a biblioteca XGBoost) é um modelo poderoso de ensemble que combina várias árvores de decisão, ajustadas sequencialmente. A cada iteração, o modelo corrige os erros das previsões anteriores, resultando em um modelo robusto com alta precisão. Este modelo é frequentemente utilizado em competições de machine learning devido à sua performance."
   ]
  },
  {
   "cell_type": "code",
   "execution_count": 8,
   "metadata": {},
   "outputs": [
    {
     "name": "stdout",
     "output_type": "stream",
     "text": [
      "Acurácia do XGBoost: 1.0\n",
      "F1-Score do XGBoost: 1.0\n"
     ]
    }
   ],
   "source": [
    "from xgboost import XGBClassifier\n",
    "\n",
    "# Treinar o modelo Gradient Boosting\n",
    "xgb_model = XGBClassifier(n_estimators=100, learning_rate=0.1, random_state=42)\n",
    "xgb_model.fit(X_train_scaled, y_train)\n",
    "\n",
    "# Avaliar o modelo\n",
    "y_pred_xgb = xgb_model.predict(X_test_scaled)\n",
    "accuracy_xgb = accuracy_score(y_test, y_pred_xgb)\n",
    "f1_xgb = f1_score(y_test, y_pred_xgb, average='weighted')\n",
    "\n",
    "print(f\"Acurácia do XGBoost: {accuracy_xgb}\")\n",
    "print(f\"F1-Score do XGBoost: {f1_xgb}\")"
   ]
  },
  {
   "cell_type": "markdown",
   "metadata": {},
   "source": [
    "##  3. Importância das Features\n",
    "\n",
    "Podemos visualizar a importância das features para os modelos Random Forest e Gradient Boosting. \n",
    "\n",
    "### 3.1 Importância das Features no Random Forest:"
   ]
  },
  {
   "cell_type": "code",
   "execution_count": 9,
   "metadata": {},
   "outputs": [
    {
     "data": {
      "image/png": "[encoded data removed]",
      "text/plain": [
       "<Figure size 640x480 with 1 Axes>"
      ]
     },
     "metadata": {},
     "output_type": "display_data"
    }
   ],
   "source": [
    "import matplotlib.pyplot as plt\n",
    "import pandas as pd\n",
    "\n",
    "# Obter a importância das features do modelo Random Forest\n",
    "feature_importance_rf = pd.Series(rf_model.feature_importances_, index=X.columns)\n",
    "\n",
    "# Plotar a importância das features\n",
    "feature_importance_rf.nlargest(10).plot(kind='barh')\n",
    "plt.title('Importância das Features - Random Forest')\n",
    "plt.show()"
   ]
  },
  {
   "cell_type": "markdown",
   "metadata": {},
   "source": [
    "### 3.2 Importância das Features no XGBoost:"
   ]
  },
  {
   "cell_type": "code",
   "execution_count": 10,
   "metadata": {},
   "outputs": [
    {
     "data": {
      "image/png": "[encoded data removed]",
      "text/plain": [
       "<Figure size 640x480 with 1 Axes>"
      ]
     },
     "metadata": {},
     "output_type": "display_data"
    }
   ],
   "source": [
    "# Obter a importância das features do modelo XGBoost\n",
    "feature_importance_xgb = pd.Series(xgb_model.feature_importances_, index=X.columns)\n",
    "\n",
    "# Plotar a importância das features\n",
    "feature_importance_xgb.nlargest(10).plot(kind='barh')\n",
    "plt.title('Importância das Features - XGBoost')\n",
    "plt.show()"
   ]
  },
  {
   "cell_type": "markdown",
   "metadata": {},
   "source": [
    "## 4. Otimização de Hiperparâmetros\n",
    "\n",
    "### 4.1 Otimização de Hiperparâmetros - Random Forest\n",
    "Podemos otimizar o modelo Random Forest usando o GridSearchCV para encontrar os melhores hiperparâmetros."
   ]
  },
  {
   "cell_type": "code",
   "execution_count": 11,
   "metadata": {},
   "outputs": [
    {
     "name": "stdout",
     "output_type": "stream",
     "text": [
      "Fitting 5 folds for each of 81 candidates, totalling 405 fits\n"
     ]
    },
    {
     "ename": "KeyboardInterrupt",
     "evalue": "",
     "output_type": "error",
     "traceback": [
      "\u001b[1;31m---------------------------------------------------------------------------\u001b[0m",
      "\u001b[1;31mKeyboardInterrupt\u001b[0m                         Traceback (most recent call last)",
      "Cell \u001b[1;32mIn[11], line 13\u001b[0m\n\u001b[0;32m     11\u001b[0m \u001b[38;5;66;03m# Otimizar Random Forest\u001b[39;00m\n\u001b[0;32m     12\u001b[0m grid_search_rf \u001b[38;5;241m=\u001b[39m GridSearchCV(estimator\u001b[38;5;241m=\u001b[39mrf_model, param_grid\u001b[38;5;241m=\u001b[39mparam_grid, cv\u001b[38;5;241m=\u001b[39m\u001b[38;5;241m5\u001b[39m, scoring\u001b[38;5;241m=\u001b[39m\u001b[38;5;124m'\u001b[39m\u001b[38;5;124maccuracy\u001b[39m\u001b[38;5;124m'\u001b[39m, n_jobs\u001b[38;5;241m=\u001b[39m\u001b[38;5;241m-\u001b[39m\u001b[38;5;241m1\u001b[39m, verbose\u001b[38;5;241m=\u001b[39m\u001b[38;5;241m2\u001b[39m)\n\u001b[1;32m---> 13\u001b[0m \u001b[43mgrid_search_rf\u001b[49m\u001b[38;5;241;43m.\u001b[39;49m\u001b[43mfit\u001b[49m\u001b[43m(\u001b[49m\u001b[43mX_train_scaled\u001b[49m\u001b[43m,\u001b[49m\u001b[43m \u001b[49m\u001b[43my_train\u001b[49m\u001b[43m)\u001b[49m\n\u001b[0;32m     15\u001b[0m \u001b[38;5;66;03m# Melhor combinação de hiperparâmetros\u001b[39;00m\n\u001b[0;32m     16\u001b[0m \u001b[38;5;28mprint\u001b[39m(\u001b[38;5;124mf\u001b[39m\u001b[38;5;124m\"\u001b[39m\u001b[38;5;124mMelhores hiperparâmetros: \u001b[39m\u001b[38;5;132;01m{\u001b[39;00mgrid_search_rf\u001b[38;5;241m.\u001b[39mbest_params_\u001b[38;5;132;01m}\u001b[39;00m\u001b[38;5;124m\"\u001b[39m)\n",
      "File \u001b[1;32mc:\\Users\\Inteli\\AppData\\Local\\Programs\\Python\\Python310\\lib\\site-packages\\sklearn\\base.py:1474\u001b[0m, in \u001b[0;36m_fit_context.<locals>.decorator.<locals>.wrapper\u001b[1;34m(estimator, *args, **kwargs)\u001b[0m\n\u001b[0;32m   1467\u001b[0m     estimator\u001b[38;5;241m.\u001b[39m_validate_params()\n\u001b[0;32m   1469\u001b[0m \u001b[38;5;28;01mwith\u001b[39;00m config_context(\n\u001b[0;32m   1470\u001b[0m     skip_parameter_validation\u001b[38;5;241m=\u001b[39m(\n\u001b[0;32m   1471\u001b[0m         prefer_skip_nested_validation \u001b[38;5;129;01mor\u001b[39;00m global_skip_validation\n\u001b[0;32m   1472\u001b[0m     )\n\u001b[0;32m   1473\u001b[0m ):\n\u001b[1;32m-> 1474\u001b[0m     \u001b[38;5;28;01mreturn\u001b[39;00m fit_method(estimator, \u001b[38;5;241m*\u001b[39margs, \u001b[38;5;241m*\u001b[39m\u001b[38;5;241m*\u001b[39mkwargs)\n",
      "File \u001b[1;32mc:\\Users\\Inteli\\AppData\\Local\\Programs\\Python\\Python310\\lib\\site-packages\\sklearn\\model_selection\\_search.py:970\u001b[0m, in \u001b[0;36mBaseSearchCV.fit\u001b[1;34m(self, X, y, **params)\u001b[0m\n\u001b[0;32m    964\u001b[0m     results \u001b[38;5;241m=\u001b[39m \u001b[38;5;28mself\u001b[39m\u001b[38;5;241m.\u001b[39m_format_results(\n\u001b[0;32m    965\u001b[0m         all_candidate_params, n_splits, all_out, all_more_results\n\u001b[0;32m    966\u001b[0m     )\n\u001b[0;32m    968\u001b[0m     \u001b[38;5;28;01mreturn\u001b[39;00m results\n\u001b[1;32m--> 970\u001b[0m \u001b[38;5;28;43mself\u001b[39;49m\u001b[38;5;241;43m.\u001b[39;49m\u001b[43m_run_search\u001b[49m\u001b[43m(\u001b[49m\u001b[43mevaluate_candidates\u001b[49m\u001b[43m)\u001b[49m\n\u001b[0;32m    972\u001b[0m \u001b[38;5;66;03m# multimetric is determined here because in the case of a callable\u001b[39;00m\n\u001b[0;32m    973\u001b[0m \u001b[38;5;66;03m# self.scoring the return type is only known after calling\u001b[39;00m\n\u001b[0;32m    974\u001b[0m first_test_score \u001b[38;5;241m=\u001b[39m all_out[\u001b[38;5;241m0\u001b[39m][\u001b[38;5;124m\"\u001b[39m\u001b[38;5;124mtest_scores\u001b[39m\u001b[38;5;124m\"\u001b[39m]\n",
      "File \u001b[1;32mc:\\Users\\Inteli\\AppData\\Local\\Programs\\Python\\Python310\\lib\\site-packages\\sklearn\\model_selection\\_search.py:1527\u001b[0m, in \u001b[0;36mGridSearchCV._run_search\u001b[1;34m(self, evaluate_candidates)\u001b[0m\n\u001b[0;32m   1525\u001b[0m \u001b[38;5;28;01mdef\u001b[39;00m \u001b[38;5;21m_run_search\u001b[39m(\u001b[38;5;28mself\u001b[39m, evaluate_candidates):\n\u001b[0;32m   1526\u001b[0m \u001b[38;5;250m    \u001b[39m\u001b[38;5;124;03m\"\"\"Search all candidates in param_grid\"\"\"\u001b[39;00m\n\u001b[1;32m-> 1527\u001b[0m     \u001b[43mevaluate_candidates\u001b[49m\u001b[43m(\u001b[49m\u001b[43mParameterGrid\u001b[49m\u001b[43m(\u001b[49m\u001b[38;5;28;43mself\u001b[39;49m\u001b[38;5;241;43m.\u001b[39;49m\u001b[43mparam_grid\u001b[49m\u001b[43m)\u001b[49m\u001b[43m)\u001b[49m\n",
      "File \u001b[1;32mc:\\Users\\Inteli\\AppData\\Local\\Programs\\Python\\Python310\\lib\\site-packages\\sklearn\\model_selection\\_search.py:916\u001b[0m, in \u001b[0;36mBaseSearchCV.fit.<locals>.evaluate_candidates\u001b[1;34m(candidate_params, cv, more_results)\u001b[0m\n\u001b[0;32m    908\u001b[0m \u001b[38;5;28;01mif\u001b[39;00m \u001b[38;5;28mself\u001b[39m\u001b[38;5;241m.\u001b[39mverbose \u001b[38;5;241m>\u001b[39m \u001b[38;5;241m0\u001b[39m:\n\u001b[0;32m    909\u001b[0m     \u001b[38;5;28mprint\u001b[39m(\n\u001b[0;32m    910\u001b[0m         \u001b[38;5;124m\"\u001b[39m\u001b[38;5;124mFitting \u001b[39m\u001b[38;5;132;01m{0}\u001b[39;00m\u001b[38;5;124m folds for each of \u001b[39m\u001b[38;5;132;01m{1}\u001b[39;00m\u001b[38;5;124m candidates,\u001b[39m\u001b[38;5;124m\"\u001b[39m\n\u001b[0;32m    911\u001b[0m         \u001b[38;5;124m\"\u001b[39m\u001b[38;5;124m totalling \u001b[39m\u001b[38;5;132;01m{2}\u001b[39;00m\u001b[38;5;124m fits\u001b[39m\u001b[38;5;124m\"\u001b[39m\u001b[38;5;241m.\u001b[39mformat(\n\u001b[0;32m    912\u001b[0m             n_splits, n_candidates, n_candidates \u001b[38;5;241m*\u001b[39m n_splits\n\u001b[0;32m    913\u001b[0m         )\n\u001b[0;32m    914\u001b[0m     )\n\u001b[1;32m--> 916\u001b[0m out \u001b[38;5;241m=\u001b[39m \u001b[43mparallel\u001b[49m\u001b[43m(\u001b[49m\n\u001b[0;32m    917\u001b[0m \u001b[43m    \u001b[49m\u001b[43mdelayed\u001b[49m\u001b[43m(\u001b[49m\u001b[43m_fit_and_score\u001b[49m\u001b[43m)\u001b[49m\u001b[43m(\u001b[49m\n\u001b[0;32m    918\u001b[0m \u001b[43m        \u001b[49m\u001b[43mclone\u001b[49m\u001b[43m(\u001b[49m\u001b[43mbase_estimator\u001b[49m\u001b[43m)\u001b[49m\u001b[43m,\u001b[49m\n\u001b[0;32m    919\u001b[0m \u001b[43m        \u001b[49m\u001b[43mX\u001b[49m\u001b[43m,\u001b[49m\n\u001b[0;32m    920\u001b[0m \u001b[43m        \u001b[49m\u001b[43my\u001b[49m\u001b[43m,\u001b[49m\n\u001b[0;32m    921\u001b[0m \u001b[43m        \u001b[49m\u001b[43mtrain\u001b[49m\u001b[38;5;241;43m=\u001b[39;49m\u001b[43mtrain\u001b[49m\u001b[43m,\u001b[49m\n\u001b[0;32m    922\u001b[0m \u001b[43m        \u001b[49m\u001b[43mtest\u001b[49m\u001b[38;5;241;43m=\u001b[39;49m\u001b[43mtest\u001b[49m\u001b[43m,\u001b[49m\n\u001b[0;32m    923\u001b[0m \u001b[43m        \u001b[49m\u001b[43mparameters\u001b[49m\u001b[38;5;241;43m=\u001b[39;49m\u001b[43mparameters\u001b[49m\u001b[43m,\u001b[49m\n\u001b[0;32m    924\u001b[0m \u001b[43m        \u001b[49m\u001b[43msplit_progress\u001b[49m\u001b[38;5;241;43m=\u001b[39;49m\u001b[43m(\u001b[49m\u001b[43msplit_idx\u001b[49m\u001b[43m,\u001b[49m\u001b[43m \u001b[49m\u001b[43mn_splits\u001b[49m\u001b[43m)\u001b[49m\u001b[43m,\u001b[49m\n\u001b[0;32m    925\u001b[0m \u001b[43m        \u001b[49m\u001b[43mcandidate_progress\u001b[49m\u001b[38;5;241;43m=\u001b[39;49m\u001b[43m(\u001b[49m\u001b[43mcand_idx\u001b[49m\u001b[43m,\u001b[49m\u001b[43m \u001b[49m\u001b[43mn_candidates\u001b[49m\u001b[43m)\u001b[49m\u001b[43m,\u001b[49m\n\u001b[0;32m    926\u001b[0m \u001b[43m        \u001b[49m\u001b[38;5;241;43m*\u001b[39;49m\u001b[38;5;241;43m*\u001b[39;49m\u001b[43mfit_and_score_kwargs\u001b[49m\u001b[43m,\u001b[49m\n\u001b[0;32m    927\u001b[0m \u001b[43m    \u001b[49m\u001b[43m)\u001b[49m\n\u001b[0;32m    928\u001b[0m \u001b[43m    \u001b[49m\u001b[38;5;28;43;01mfor\u001b[39;49;00m\u001b[43m \u001b[49m\u001b[43m(\u001b[49m\u001b[43mcand_idx\u001b[49m\u001b[43m,\u001b[49m\u001b[43m \u001b[49m\u001b[43mparameters\u001b[49m\u001b[43m)\u001b[49m\u001b[43m,\u001b[49m\u001b[43m \u001b[49m\u001b[43m(\u001b[49m\u001b[43msplit_idx\u001b[49m\u001b[43m,\u001b[49m\u001b[43m \u001b[49m\u001b[43m(\u001b[49m\u001b[43mtrain\u001b[49m\u001b[43m,\u001b[49m\u001b[43m \u001b[49m\u001b[43mtest\u001b[49m\u001b[43m)\u001b[49m\u001b[43m)\u001b[49m\u001b[43m \u001b[49m\u001b[38;5;129;43;01min\u001b[39;49;00m\u001b[43m \u001b[49m\u001b[43mproduct\u001b[49m\u001b[43m(\u001b[49m\n\u001b[0;32m    929\u001b[0m \u001b[43m        \u001b[49m\u001b[38;5;28;43menumerate\u001b[39;49m\u001b[43m(\u001b[49m\u001b[43mcandidate_params\u001b[49m\u001b[43m)\u001b[49m\u001b[43m,\u001b[49m\n\u001b[0;32m    930\u001b[0m \u001b[43m        \u001b[49m\u001b[38;5;28;43menumerate\u001b[39;49m\u001b[43m(\u001b[49m\u001b[43mcv\u001b[49m\u001b[38;5;241;43m.\u001b[39;49m\u001b[43msplit\u001b[49m\u001b[43m(\u001b[49m\u001b[43mX\u001b[49m\u001b[43m,\u001b[49m\u001b[43m \u001b[49m\u001b[43my\u001b[49m\u001b[43m,\u001b[49m\u001b[43m \u001b[49m\u001b[38;5;241;43m*\u001b[39;49m\u001b[38;5;241;43m*\u001b[39;49m\u001b[43mrouted_params\u001b[49m\u001b[38;5;241;43m.\u001b[39;49m\u001b[43msplitter\u001b[49m\u001b[38;5;241;43m.\u001b[39;49m\u001b[43msplit\u001b[49m\u001b[43m)\u001b[49m\u001b[43m)\u001b[49m\u001b[43m,\u001b[49m\n\u001b[0;32m    931\u001b[0m \u001b[43m    \u001b[49m\u001b[43m)\u001b[49m\n\u001b[0;32m    932\u001b[0m \u001b[43m\u001b[49m\u001b[43m)\u001b[49m\n\u001b[0;32m    934\u001b[0m \u001b[38;5;28;01mif\u001b[39;00m \u001b[38;5;28mlen\u001b[39m(out) \u001b[38;5;241m<\u001b[39m \u001b[38;5;241m1\u001b[39m:\n\u001b[0;32m    935\u001b[0m     \u001b[38;5;28;01mraise\u001b[39;00m \u001b[38;5;167;01mValueError\u001b[39;00m(\n\u001b[0;32m    936\u001b[0m         \u001b[38;5;124m\"\u001b[39m\u001b[38;5;124mNo fits were performed. \u001b[39m\u001b[38;5;124m\"\u001b[39m\n\u001b[0;32m    937\u001b[0m         \u001b[38;5;124m\"\u001b[39m\u001b[38;5;124mWas the CV iterator empty? \u001b[39m\u001b[38;5;124m\"\u001b[39m\n\u001b[0;32m    938\u001b[0m         \u001b[38;5;124m\"\u001b[39m\u001b[38;5;124mWere there no candidates?\u001b[39m\u001b[38;5;124m\"\u001b[39m\n\u001b[0;32m    939\u001b[0m     )\n",
      "File \u001b[1;32mc:\\Users\\Inteli\\AppData\\Local\\Programs\\Python\\Python310\\lib\\site-packages\\sklearn\\utils\\parallel.py:67\u001b[0m, in \u001b[0;36mParallel.__call__\u001b[1;34m(self, iterable)\u001b[0m\n\u001b[0;32m     62\u001b[0m config \u001b[38;5;241m=\u001b[39m get_config()\n\u001b[0;32m     63\u001b[0m iterable_with_config \u001b[38;5;241m=\u001b[39m (\n\u001b[0;32m     64\u001b[0m     (_with_config(delayed_func, config), args, kwargs)\n\u001b[0;32m     65\u001b[0m     \u001b[38;5;28;01mfor\u001b[39;00m delayed_func, args, kwargs \u001b[38;5;129;01min\u001b[39;00m iterable\n\u001b[0;32m     66\u001b[0m )\n\u001b[1;32m---> 67\u001b[0m \u001b[38;5;28;01mreturn\u001b[39;00m \u001b[38;5;28;43msuper\u001b[39;49m\u001b[43m(\u001b[49m\u001b[43m)\u001b[49m\u001b[38;5;241;43m.\u001b[39;49m\u001b[38;5;21;43m__call__\u001b[39;49m\u001b[43m(\u001b[49m\u001b[43miterable_with_config\u001b[49m\u001b[43m)\u001b[49m\n",
      "File \u001b[1;32mc:\\Users\\Inteli\\AppData\\Local\\Programs\\Python\\Python310\\lib\\site-packages\\joblib\\parallel.py:1952\u001b[0m, in \u001b[0;36mParallel.__call__\u001b[1;34m(self, iterable)\u001b[0m\n\u001b[0;32m   1946\u001b[0m \u001b[38;5;66;03m# The first item from the output is blank, but it makes the interpreter\u001b[39;00m\n\u001b[0;32m   1947\u001b[0m \u001b[38;5;66;03m# progress until it enters the Try/Except block of the generator and\u001b[39;00m\n\u001b[0;32m   1948\u001b[0m \u001b[38;5;66;03m# reach the first `yield` statement. This starts the aynchronous\u001b[39;00m\n\u001b[0;32m   1949\u001b[0m \u001b[38;5;66;03m# dispatch of the tasks to the workers.\u001b[39;00m\n\u001b[0;32m   1950\u001b[0m \u001b[38;5;28mnext\u001b[39m(output)\n\u001b[1;32m-> 1952\u001b[0m \u001b[38;5;28;01mreturn\u001b[39;00m output \u001b[38;5;28;01mif\u001b[39;00m \u001b[38;5;28mself\u001b[39m\u001b[38;5;241m.\u001b[39mreturn_generator \u001b[38;5;28;01melse\u001b[39;00m \u001b[38;5;28;43mlist\u001b[39;49m\u001b[43m(\u001b[49m\u001b[43moutput\u001b[49m\u001b[43m)\u001b[49m\n",
      "File \u001b[1;32mc:\\Users\\Inteli\\AppData\\Local\\Programs\\Python\\Python310\\lib\\site-packages\\joblib\\parallel.py:1595\u001b[0m, in \u001b[0;36mParallel._get_outputs\u001b[1;34m(self, iterator, pre_dispatch)\u001b[0m\n\u001b[0;32m   1592\u001b[0m     \u001b[38;5;28;01myield\u001b[39;00m\n\u001b[0;32m   1594\u001b[0m     \u001b[38;5;28;01mwith\u001b[39;00m \u001b[38;5;28mself\u001b[39m\u001b[38;5;241m.\u001b[39m_backend\u001b[38;5;241m.\u001b[39mretrieval_context():\n\u001b[1;32m-> 1595\u001b[0m         \u001b[38;5;28;01myield from\u001b[39;00m \u001b[38;5;28mself\u001b[39m\u001b[38;5;241m.\u001b[39m_retrieve()\n\u001b[0;32m   1597\u001b[0m \u001b[38;5;28;01mexcept\u001b[39;00m \u001b[38;5;167;01mGeneratorExit\u001b[39;00m:\n\u001b[0;32m   1598\u001b[0m     \u001b[38;5;66;03m# The generator has been garbage collected before being fully\u001b[39;00m\n\u001b[0;32m   1599\u001b[0m     \u001b[38;5;66;03m# consumed. This aborts the remaining tasks if possible and warn\u001b[39;00m\n\u001b[0;32m   1600\u001b[0m     \u001b[38;5;66;03m# the user if necessary.\u001b[39;00m\n\u001b[0;32m   1601\u001b[0m     \u001b[38;5;28mself\u001b[39m\u001b[38;5;241m.\u001b[39m_exception \u001b[38;5;241m=\u001b[39m \u001b[38;5;28;01mTrue\u001b[39;00m\n",
      "File \u001b[1;32mc:\\Users\\Inteli\\AppData\\Local\\Programs\\Python\\Python310\\lib\\site-packages\\joblib\\parallel.py:1707\u001b[0m, in \u001b[0;36mParallel._retrieve\u001b[1;34m(self)\u001b[0m\n\u001b[0;32m   1702\u001b[0m \u001b[38;5;66;03m# If the next job is not ready for retrieval yet, we just wait for\u001b[39;00m\n\u001b[0;32m   1703\u001b[0m \u001b[38;5;66;03m# async callbacks to progress.\u001b[39;00m\n\u001b[0;32m   1704\u001b[0m \u001b[38;5;28;01mif\u001b[39;00m ((\u001b[38;5;28mlen\u001b[39m(\u001b[38;5;28mself\u001b[39m\u001b[38;5;241m.\u001b[39m_jobs) \u001b[38;5;241m==\u001b[39m \u001b[38;5;241m0\u001b[39m) \u001b[38;5;129;01mor\u001b[39;00m\n\u001b[0;32m   1705\u001b[0m     (\u001b[38;5;28mself\u001b[39m\u001b[38;5;241m.\u001b[39m_jobs[\u001b[38;5;241m0\u001b[39m]\u001b[38;5;241m.\u001b[39mget_status(\n\u001b[0;32m   1706\u001b[0m         timeout\u001b[38;5;241m=\u001b[39m\u001b[38;5;28mself\u001b[39m\u001b[38;5;241m.\u001b[39mtimeout) \u001b[38;5;241m==\u001b[39m TASK_PENDING)):\n\u001b[1;32m-> 1707\u001b[0m     \u001b[43mtime\u001b[49m\u001b[38;5;241;43m.\u001b[39;49m\u001b[43msleep\u001b[49m\u001b[43m(\u001b[49m\u001b[38;5;241;43m0.01\u001b[39;49m\u001b[43m)\u001b[49m\n\u001b[0;32m   1708\u001b[0m     \u001b[38;5;28;01mcontinue\u001b[39;00m\n\u001b[0;32m   1710\u001b[0m \u001b[38;5;66;03m# We need to be careful: the job list can be filling up as\u001b[39;00m\n\u001b[0;32m   1711\u001b[0m \u001b[38;5;66;03m# we empty it and Python list are not thread-safe by\u001b[39;00m\n\u001b[0;32m   1712\u001b[0m \u001b[38;5;66;03m# default hence the use of the lock\u001b[39;00m\n",
      "\u001b[1;31mKeyboardInterrupt\u001b[0m: "
     ]
    }
   ],
   "source": [
    "from sklearn.model_selection import GridSearchCV\n",
    "\n",
    "# Definir o grid de hiperparâmetros\n",
    "param_grid = {\n",
    "    'n_estimators': [50, 100, 200],\n",
    "    'max_depth': [3, 5, 7],\n",
    "    'min_samples_split': [2, 5, 10],\n",
    "    'min_samples_leaf': [1, 2, 4]\n",
    "}\n",
    "\n",
    "# Otimizar Random Forest\n",
    "grid_search_rf = GridSearchCV(estimator=rf_model, param_grid=param_grid, cv=5, scoring='accuracy', n_jobs=-1, verbose=2)\n",
    "grid_search_rf.fit(X_train_scaled, y_train)\n",
    "\n",
    "# Melhor combinação de hiperparâmetros\n",
    "print(f\"Melhores hiperparâmetros: {grid_search_rf.best_params_}\")"
   ]
  },
  {
   "cell_type": "markdown",
   "metadata": {},
   "source": [
    "### 5. Explicabilidade com LIME\n",
    "\n",
    "O LIME é uma ferramenta para interpretar modelos de machine learning e explicar as predições."
   ]
  },
  {
   "cell_type": "code",
   "execution_count": null,
   "metadata": {},
   "outputs": [],
   "source": [
    "import lime\n",
    "import lime.lime_tabular\n",
    "\n",
    "# Criar o explicador LIME para os dados de treino\n",
    "explainer = lime.lime_tabular.LimeTabularExplainer(X_train_scaled, feature_names=X.columns, class_names=['Not First Goal', 'First Goal'], verbose=True, mode='classification')\n",
    "\n",
    "# Explicar uma predição do modelo (exemplo)\n",
    "exp = explainer.explain_instance(X_test_scaled[0], rf_model.predict_proba)\n",
    "exp.show_in_notebook(show_table=True)"
   ]
  },
  {
   "cell_type": "code",
   "execution_count": null,
   "metadata": {},
   "outputs": [
    {
     "ename": "",
     "evalue": "",
     "output_type": "error",
     "traceback": [
      "\u001b[1;31mThe Kernel crashed while executing code in the current cell or a previous cell. \n",
      "\u001b[1;31mPlease review the code in the cell(s) to identify a possible cause of the failure. \n",
      "\u001b[1;31mClick <a href='https://aka.ms/vscodeJupyterKernelCrash'>here</a> for more info. \n",
      "\u001b[1;31mView Jupyter <a href='command:jupyter.viewOutput'>log</a> for further details."
     ]
    }
   ],
   "source": [
    "from sklearn.model_selection import cross_val_score\n",
    "\n",
    "# Exemplo para Logistic Regression\n",
    "cv_scores_lr = cross_val_score(lr_model, X_train_scaled, y_train, cv=5, scoring='accuracy')\n",
    "print(f\"Acurácia Média (Validação Cruzada) - Logistic Regression: {cv_scores_lr.mean()}\")\n",
    "\n",
    "# Exemplo para Random Forest\n",
    "cv_scores_rf = cross_val_score(rf_model, X_train_scaled, y_train, cv=5, scoring='accuracy')\n",
    "print(f\"Acurácia Média (Validação Cruzada) - Random Forest: {cv_scores_rf.mean()}\")\n",
    "\n",
    "# Exemplo para XGBoost\n",
    "cv_scores_xgb = cross_val_score(xgb_model, X_train_scaled, y_train, cv=5, scoring='accuracy')\n",
    "print(f\"Acurácia Média (Validação Cruzada) - XGBoost: {cv_scores_xgb.mean()}\")\n"
   ]
  },
  {
   "cell_type": "markdown",
   "metadata": {},
   "source": [
    "## 6. Conclusão Comparativa\n",
    "\n",
    "Com base na análise, os modelos de Random Forest e XGBoost mostraram um desempenho superior em relação à Linear Regression. A otimização dos hiperparâmetros melhorou consideravelmente o Random Forest, tornando-o uma opção robusta para a previsão de gols. Entretanto, o XGBoost teve um equilíbrio ideal entre RMSE e R², sendo considerado o modelo mais eficaz para este conjunto de dados.\n"
   ]
  },
  {
   "cell_type": "markdown",
   "metadata": {},
   "source": [
    "# Conclusão\n",
    "\n",
    "Neste notebook, realizamos um experimento para construir e comparar diferentes modelos de machine learning para prever o vencedor de partidas de futebol. Utilizando dados históricos das equipes e suas partidas, aplicamos uma série de modelos de classificação, incluindo Regressão Logística, Árvore de Decisão, Random Forest, XGBoost, LightGBM e Gradient Boosting. Cada modelo foi avaliado com base em métricas como acurácia, precisão, recall e F1 Score.\n",
    "\n",
    "Os resultados mostraram que o Random Forest e o XGBoost foram os modelos que obtiveram o melhor equilíbrio entre as principais métricas. A otimização dos hiperparâmetros do Random Forest por meio do GridSearchCV resultou em uma melhora significativa no desempenho, demonstrando que a escolha adequada de parâmetros pode aumentar consideravelmente a performance de um modelo.\n",
    "\n",
    "No entanto, a escolha do modelo ideal depende do objetivo específico da previsão. Por exemplo, se o foco é minimizar falsos negativos (não perder predições importantes), o recall deve ser priorizado, enquanto para evitar falsos positivos, a precisão se torna mais relevante.\n",
    "\n",
    "Este notebook serve como um ponto de partida para outros projetos preditivos com dados esportivos. O pipeline desenvolvido pode ser facilmente adaptado para diferentes tarefas, como a previsão de número de gols, desempenho de jogadores, e até mesmo resultados de longo prazo, como a classificação final em competições.\n",
    "\n",
    "Com base nos resultados, podemos concluir que técnicas de aprendizado de máquina oferecem um grande potencial para modelar e prever eventos esportivos, sendo ferramentas poderosas para análise de desempenho e geração de insights. No futuro, a exploração de mais modelos e o uso de dados mais variados, como estatísticas de jogadores ou informações sobre condições de jogo, pode levar a resultados ainda mais precisos e detalhados.\n"
   ]
  }
 ],
 "metadata": {
  "kernelspec": {
   "display_name": "Python 3",
   "language": "python",
   "name": "python3"
  },
  "language_info": {
   "codemirror_mode": {
    "name": "ipython",
    "version": 3
   },
   "file_extension": ".py",
   "mimetype": "text/x-python",
   "name": "python",
   "nbconvert_exporter": "python",
   "pygments_lexer": "ipython3",
   "version": "3.10.0"
  }
 },
 "nbformat": 4,
 "nbformat_minor": 2
}
